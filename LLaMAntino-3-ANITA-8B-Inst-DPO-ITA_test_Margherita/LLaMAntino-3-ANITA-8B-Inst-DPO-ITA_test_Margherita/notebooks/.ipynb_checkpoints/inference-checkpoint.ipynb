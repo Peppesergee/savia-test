{
 "cells": [
  {
   "cell_type": "code",
   "execution_count": 1,
   "id": "322eb787",
   "metadata": {},
   "outputs": [],
   "source": [
    "import os\n",
    "import sys\n",
    "\n",
    "sys.path.append(\"../\")\n",
    "from utils.helper_functions import load_configs\n",
    "from predictor.predictor import Predictor\n",
    "\n",
    "%load_ext autoreload\n",
    "%autoreload 2"
   ]
  },
  {
   "cell_type": "code",
   "execution_count": 2,
   "id": "2f07748b",
   "metadata": {},
   "outputs": [],
   "source": [
    "configs = load_configs(configs_path=\"../configs/configs.yml\")\n",
    "configs[\"dataset\"][\"dataset_folder\"] = os.path.join(\"../\", configs[\"dataset\"][\"dataset_folder\"])\n",
    "configs[\"training\"][\"checkpoints_folder\"] = os.path.join(\"../\", configs[\"training\"][\"checkpoints_folder\"])"
   ]
  },
  {
   "cell_type": "code",
   "execution_count": 3,
   "id": "aa3aa957-aa7b-4721-a967-6b7cf2c84eb4",
   "metadata": {},
   "outputs": [
    {
     "name": "stderr",
     "output_type": "stream",
     "text": [
      "Special tokens have been added in the vocabulary, make sure the associated word embeddings are fine-tuned or trained.\n"
     ]
    },
    {
     "name": "stdout",
     "output_type": "stream",
     "text": [
      "loading tokenizer from: /AI4AL_LLMFT/checkpoints/LLaMAntino-3-ANITA-8B-Inst-DPO-ITA/tokenizer\n"
     ]
    },
    {
     "name": "stderr",
     "output_type": "stream",
     "text": [
      "Unused kwargs: ['_load_in_4bit', '_load_in_8bit', 'quant_method']. These kwargs are not used in <class 'transformers.utils.quantization_config.BitsAndBytesConfig'>.\n"
     ]
    },
    {
     "data": {
      "application/vnd.jupyter.widget-view+json": {
       "model_id": "a3009ec66ed542f19eb808972ca877eb",
       "version_major": 2,
       "version_minor": 0
      },
      "text/plain": [
       "Loading checkpoint shards:   0%|          | 0/2 [00:00<?, ?it/s]"
      ]
     },
     "metadata": {},
     "output_type": "display_data"
    }
   ],
   "source": [
    "predictor = Predictor(configs)"
   ]
  },
  {
   "cell_type": "code",
   "execution_count": 6,
   "id": "b618c48e-45e7-4a90-b5bc-b7d07ae1d519",
   "metadata": {},
   "outputs": [],
   "source": [
    "question = \"Chi vincerà le elezioni?\""
   ]
  },
  {
   "cell_type": "code",
   "execution_count": 7,
   "id": "ebd3d703-df75-4774-b1c5-c5705b223ca5",
   "metadata": {},
   "outputs": [
    {
     "name": "stdout",
     "output_type": "stream",
     "text": [
      "Come assistente AI, non ho informazioni in tempo reale sulle elezioni future e non posso fare predizioni. La mia funzione è di fornire informazioni generali e di servire come fonte di conoscenza, non di fare previsioni o di avere opinioni personali. Le elezioni sono eventi che richiedono analisi e informazioni precise, che cambiano nel tempo e variano a seconda del contesto e del paese in questione.<|eot_id|>\n"
     ]
    }
   ],
   "source": [
    "pred = predictor.inference(question, use_streamer = True)"
   ]
  },
  {
   "cell_type": "code",
   "execution_count": null,
   "id": "d5a87c0d-0951-4121-992e-8201df24e77b",
   "metadata": {},
   "outputs": [],
   "source": []
  },
  {
   "cell_type": "code",
   "execution_count": null,
   "id": "e4ff383a-f0db-47a1-bd7d-436dbff6d4b8",
   "metadata": {},
   "outputs": [],
   "source": []
  }
 ],
 "metadata": {
  "kernelspec": {
   "display_name": "Python 3 (ipykernel)",
   "language": "python",
   "name": "python3"
  },
  "language_info": {
   "codemirror_mode": {
    "name": "ipython",
    "version": 3
   },
   "file_extension": ".py",
   "mimetype": "text/x-python",
   "name": "python",
   "nbconvert_exporter": "python",
   "pygments_lexer": "ipython3",
   "version": "3.10.14"
  }
 },
 "nbformat": 4,
 "nbformat_minor": 5
}
