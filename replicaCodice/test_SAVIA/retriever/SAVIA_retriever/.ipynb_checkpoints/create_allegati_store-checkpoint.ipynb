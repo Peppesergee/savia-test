{
 "cells": [
  {
   "cell_type": "markdown",
   "id": "34d9f7c1-968c-4789-ad12-2a2845b4fae8",
   "metadata": {},
   "source": [
    "## Notebook per creare il vector store con gli articoli delle leggi (i primi 2), oltre a titolo, e argomenti"
   ]
  },
  {
   "cell_type": "code",
   "execution_count": 1,
   "id": "27a259c0-cbd3-4cec-9560-eab6ad23fad6",
   "metadata": {},
   "outputs": [],
   "source": [
    "from pymongo import MongoClient\n",
    "#from bson.objectid import ObjectId\n",
    "import faiss\n",
    "from sentence_transformers import SentenceTransformer\n",
    "import os\n",
    "from langchain_text_splitters import TokenTextSplitter\n",
    "import numpy as np\n",
    "import json\n",
    "\n",
    "import sys\n",
    "sys.path.append(\"../../../\")\n",
    "sys.path.append(\"../\")\n",
    "\n",
    "from utils.helper_functions import clean_title\n",
    "from BM25.BM25_retriever import BM25Retriever\n",
    "from llama_index.core.node_parser import SentenceSplitter"
   ]
  },
  {
   "cell_type": "code",
   "execution_count": 2,
   "id": "bbdbe8be-a4d8-4f0f-bc53-7addfd7a7a1e",
   "metadata": {},
   "outputs": [
    {
     "name": "stdout",
     "output_type": "stream",
     "text": [
      "['attiAssembleaLegislativa', 'attiComuneFerrara', 'attiComuneModena', 'attiComuneParma', 'attiComunePiacenza', 'attiComuneRavenna', 'attiComuneReggio', 'attiComuneRimini', 'attiGiuntaRegionale', 'index_leggi_regionali_1024_20_IP_BAAI_bge-m3', 'index_leggi_regionali_1024_50_IP_BAAI_bge-m3', 'index_leggi_regionali_128_20_IP_BAAI_bge-m3', 'index_leggi_regionali_128_50_IP_BAAI_bge-m3', 'index_leggi_regionali_256_20_IP_BAAI_bge-m3', 'index_leggi_regionali_256_50_IP_BAAI_bge-m3', 'index_leggi_regionali_512_20_IP_BAAI_bge-m3', 'index_leggi_regionali_512_50_IP_BAAI_bge-m3', 'index_leggi_regionali_64_20_IP_BAAI_bge-m3', 'index_leggi_regionali_64_50_IP_BAAI_bge-m3', 'leggiRegionali', 'leggiRegionaliAllegati', 'leggiRegionaliArticles', 'leggiRegionaliKeywords', 'leggiRegionaliOld']\n"
     ]
    }
   ],
   "source": [
    "client = MongoClient(\"mongodb://mongo_db:27017\")\n",
    "db = client[\"SAVIA\"]\n",
    "coll_leggi_regionali = db[\"leggiRegionali\"]\n",
    "print(sorted(db.list_collection_names()))"
   ]
  },
  {
   "cell_type": "code",
   "execution_count": 3,
   "id": "8bac1261-9309-498d-bde0-6c59ce13acc7",
   "metadata": {},
   "outputs": [
    {
     "name": "stderr",
     "output_type": "stream",
     "text": [
      "/opt/conda/lib/python3.10/site-packages/huggingface_hub/file_download.py:1132: FutureWarning: `resume_download` is deprecated and will be removed in version 1.0.0. Downloads always resume when possible. If you want to force a new download, use `force_download=True`.\n",
      "  warnings.warn(\n",
      "/opt/conda/lib/python3.10/site-packages/huggingface_hub/file_download.py:1132: FutureWarning: `resume_download` is deprecated and will be removed in version 1.0.0. Downloads always resume when possible. If you want to force a new download, use `force_download=True`.\n",
      "  warnings.warn(\n"
     ]
    }
   ],
   "source": [
    "embedding_model = SentenceTransformer(\"BAAI/bge-m3\", trust_remote_code=True)\n",
    "embedding_dim = embedding_model.encode([\"This is a test\"]).shape[1]"
   ]
  },
  {
   "cell_type": "code",
   "execution_count": 4,
   "id": "8e60797f-8fe2-48ef-ac68-e956a0e54559",
   "metadata": {},
   "outputs": [],
   "source": [
    "vector_store_folder = \"../../../../SAVIA_vector_stores\""
   ]
  },
  {
   "cell_type": "code",
   "execution_count": 16,
   "id": "2288b375-8a6d-4c3f-ae07-8fa60966a108",
   "metadata": {},
   "outputs": [],
   "source": [
    "with open(\n",
    "    os.path.join(\"./\", \"allegati_diciture.json\"), \"r\", encoding=\"utf-8\") as f:\n",
    "    allegati_diciture = json.load(f)"
   ]
  },
  {
   "cell_type": "code",
   "execution_count": 17,
   "id": "b1e9ffe8-ee21-4c1e-9319-6c1bf44bd3a8",
   "metadata": {},
   "outputs": [
    {
     "name": "stdout",
     "output_type": "stream",
     "text": [
      "{'_id_faiss': 0, 'key_allegato': 'circolari', 'chunk': 'circolari', '_id': ObjectId('66a8ebfed547e460a7c3de72')}\n",
      "\n",
      "{'_id_faiss': 1, 'key_allegato': 'atti_attuativi', 'chunk': 'atti attuativi', '_id': ObjectId('66a8ebfed547e460a7c3de73')}\n",
      "\n",
      "{'_id_faiss': 2, 'key_allegato': 'atti_attuativi', 'chunk': 'provvedimenti attuativi', '_id': ObjectId('66a8ebfed547e460a7c3de74')}\n",
      "\n",
      "{'_id_faiss': 3, 'key_allegato': 'atti_attuativi', 'chunk': 'documenti attuativi', '_id': ObjectId('66a8ebfed547e460a7c3de75')}\n",
      "\n",
      "{'_id_faiss': 4, 'key_allegato': 'atti_attuativi', 'chunk': 'atti di attuazione', '_id': ObjectId('66a8ebfed547e460a7c3de76')}\n",
      "\n",
      "{'_id_faiss': 5, 'key_allegato': 'atti_attuativi_GR', 'chunk': 'atti attuativi della Giunta Regionale', '_id': ObjectId('66a8ebfed547e460a7c3de77')}\n",
      "\n",
      "{'_id_faiss': 6, 'key_allegato': 'atti_attuativi_GR', 'chunk': 'atti attuativi della Giunta', '_id': ObjectId('66a8ebfed547e460a7c3de78')}\n",
      "\n",
      "{'_id_faiss': 7, 'key_allegato': 'atti_attuativi_GR', 'chunk': 'provvedimenti attuativi della Giunta Regionale', '_id': ObjectId('66a8ebfed547e460a7c3de79')}\n",
      "\n",
      "{'_id_faiss': 8, 'key_allegato': 'atti_attuativi_GR', 'chunk': 'documenti attuativi della Giunta Regionale', '_id': ObjectId('66a8ebfed547e460a7c3de7a')}\n",
      "\n",
      "{'_id_faiss': 9, 'key_allegato': 'atti_attuativi_GR', 'chunk': 'atti di attuazione della Giunta Regionale', '_id': ObjectId('66a8ebfed547e460a7c3de7b')}\n",
      "\n",
      "{'_id_faiss': 10, 'key_allegato': 'atti_attuativi_AL', 'chunk': \"atti attuativi dell'Assemblea Legislativa\", '_id': ObjectId('66a8ebfed547e460a7c3de7c')}\n",
      "\n",
      "{'_id_faiss': 11, 'key_allegato': 'atti_attuativi_AL', 'chunk': \"provvedimenti attuativi dell'Assemblea Legislativa\", '_id': ObjectId('66a8ebfed547e460a7c3de7d')}\n",
      "\n",
      "{'_id_faiss': 12, 'key_allegato': 'atti_attuativi_AL', 'chunk': \"documenti attuativi dell'Assemblea Legislativa\", '_id': ObjectId('66a8ebfed547e460a7c3de7e')}\n",
      "\n",
      "{'_id_faiss': 13, 'key_allegato': 'atti_attuativi_AL', 'chunk': \"atti di attuazione dell'Assemblea Legislativa\", '_id': ObjectId('66a8ebfed547e460a7c3de7f')}\n",
      "\n",
      "{'_id_faiss': 14, 'key_allegato': 'lavori_preparatori', 'chunk': 'lavori preparatori', '_id': ObjectId('66a8ebfed547e460a7c3de80')}\n",
      "\n",
      "{'_id_faiss': 15, 'key_allegato': 'analisi', 'chunk': 'valutazioni', '_id': ObjectId('66a8ebfed547e460a7c3de81')}\n",
      "\n",
      "{'_id_faiss': 16, 'key_allegato': 'analisi', 'chunk': 'analisi', '_id': ObjectId('66a8ebfed547e460a7c3de82')}\n",
      "\n",
      "{'_id_faiss': 17, 'key_allegato': 'analisi', 'chunk': 'schede tecniche', '_id': ObjectId('66a8ebfed547e460a7c3de83')}\n",
      "\n",
      "{'_id_faiss': 18, 'key_allegato': 'analisi', 'chunk': 'relazioni', '_id': ObjectId('66a8ebfed547e460a7c3de84')}\n",
      "\n",
      "{'_id_faiss': 19, 'key_allegato': 'analisi', 'chunk': 'relazioni tecniche', '_id': ObjectId('66a8ebfed547e460a7c3de85')}\n",
      "\n",
      "{'_id_faiss': 20, 'key_allegato': 'analisi', 'chunk': 'indagini', '_id': ObjectId('66a8ebfed547e460a7c3de86')}\n",
      "\n",
      "num chunks: 21\n",
      "end\n"
     ]
    }
   ],
   "source": [
    "index_name = \"leggiRegionaliAllegati\"\n",
    "coll_leggi_regionali_allegati = db[index_name]\n",
    "coll_leggi_regionali_allegati.drop()\n",
    "\n",
    "index = faiss.IndexIDMap2(faiss.IndexFlatIP(embedding_dim))\n",
    "\n",
    "_id_faiss = 0\n",
    "chunks_list = []\n",
    "\n",
    "for k, v in allegati_diciture.items():\n",
    "#    print(k, v)\n",
    "    for dicitura in v[0:]:\n",
    "#        print(dicitura)\n",
    "        \n",
    "        embedding = embedding_model.encode([dicitura])\n",
    "        faiss.normalize_L2(embedding)\n",
    "        index.add_with_ids(embedding, np.array([_id_faiss]))\n",
    "        mongo_dict = {\"_id_faiss\": _id_faiss, \"key_allegato\": k, \"chunk\": dicitura}\n",
    "        _ = coll_leggi_regionali_allegati.insert_one(mongo_dict)\n",
    "        _id_faiss += 1\n",
    "        print(mongo_dict)\n",
    "        print()\n",
    "faiss.write_index(index, os.path.join(vector_store_folder, index_name  + \".faiss\"))\n",
    "\n",
    "print(\"num chunks:\", index.ntotal)\n",
    "print(\"end\")"
   ]
  },
  {
   "cell_type": "code",
   "execution_count": null,
   "id": "b1948f27-c2d0-4e74-94c2-5e039e1d4a2b",
   "metadata": {},
   "outputs": [],
   "source": [
    "#chunks_list"
   ]
  },
  {
   "cell_type": "code",
   "execution_count": null,
   "id": "6dd43356-de4d-4c8a-bd27-90052aa885aa",
   "metadata": {},
   "outputs": [],
   "source": []
  }
 ],
 "metadata": {
  "kernelspec": {
   "display_name": "Python 3 (ipykernel)",
   "language": "python",
   "name": "python3"
  },
  "language_info": {
   "codemirror_mode": {
    "name": "ipython",
    "version": 3
   },
   "file_extension": ".py",
   "mimetype": "text/x-python",
   "name": "python",
   "nbconvert_exporter": "python",
   "pygments_lexer": "ipython3",
   "version": "3.10.14"
  }
 },
 "nbformat": 4,
 "nbformat_minor": 5
}
