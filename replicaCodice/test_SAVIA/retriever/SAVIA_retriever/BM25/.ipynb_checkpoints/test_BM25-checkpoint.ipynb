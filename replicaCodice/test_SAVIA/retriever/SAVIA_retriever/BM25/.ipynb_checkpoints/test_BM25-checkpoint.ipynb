{
 "cells": [
  {
   "cell_type": "code",
   "execution_count": 59,
   "id": "26013428-a3bd-4d50-b1af-35362fd13da5",
   "metadata": {},
   "outputs": [
    {
     "name": "stdout",
     "output_type": "stream",
     "text": [
      "The autoreload extension is already loaded. To reload it, use:\n",
      "  %reload_ext autoreload\n"
     ]
    }
   ],
   "source": [
    "import json\n",
    "from pymongo import MongoClient\n",
    "from bson.objectid import ObjectId\n",
    "import numpy as np\n",
    "import random\n",
    "#!pip install --upgrade --quiet  rank_bm25\n",
    "from rank_bm25 import BM25Okapi\n",
    "import os\n",
    "\n",
    "import sys\n",
    "sys.path.append(\"../../../\")\n",
    "\n",
    "from utils.helper_functions import clean_title\n",
    "from BM25_retriever import BM25Retriever\n",
    "from helper_functions import remove_punctuation, lemmatization#, remove_stopwords\n",
    "\n",
    "%load_ext autoreload\n",
    "%autoreload 2"
   ]
  },
  {
   "cell_type": "code",
   "execution_count": 60,
   "id": "490f4f7d-6564-4e7c-a3ca-0d07b25ec510",
   "metadata": {},
   "outputs": [
    {
     "name": "stdout",
     "output_type": "stream",
     "text": [
      "['attiAssembleaLegislativa', 'attiComuneFerrara', 'attiComuneModena', 'attiComuneParma', 'attiComunePiacenza', 'attiComuneRavenna', 'attiComuneReggio', 'attiComuneRimini', 'attiGiuntaRegionale', 'chunks_leggiRegionali', 'leggiRegionali', 'leggiRegionaliOld']\n"
     ]
    }
   ],
   "source": [
    "client = MongoClient(\"mongodb://mongo_db:27017\")\n",
    "db = client[\"SAVIA\"]\n",
    "coll_demetra = db[\"leggiRegionali\"]\n",
    "print(sorted(db.list_collection_names()))"
   ]
  },
  {
   "cell_type": "markdown",
   "id": "5329435a-130d-49fc-a33a-8b1be5ad8b96",
   "metadata": {},
   "source": [
    "### Create corpus"
   ]
  },
  {
   "cell_type": "code",
   "execution_count": 67,
   "id": "a2703c5f-e722-44f8-82af-c0c6faef5e58",
   "metadata": {},
   "outputs": [
    {
     "data": {
      "text/plain": [
       "'Finalità 1. La Regione Emilia-Romagna, in coerenza con gli obiettivi che ispirano prioritariamente la propria azione e in attuazione delle proprie politiche sociali e di promozione e sostegno della cultura ai sensi della legge regionale 31 marzo 2005, n. 13 (Statuto della Regione Emilia-Romagna), al fine di favorire la diffusione e promozione della memoria per la strage di Ustica del 27 giugno 1980, con la presente legge disciplina la propria partecipazione alla “Fondazione Museo per la memoria di Ustica”.'"
      ]
     },
     "execution_count": 67,
     "metadata": {},
     "output_type": "execute_result"
    }
   ],
   "source": [
    "list(doc['articoli'].values())[0]"
   ]
  },
  {
   "cell_type": "code",
   "execution_count": 78,
   "id": "383a334b-4c37-4f98-bfa2-0679ca36f3e3",
   "metadata": {},
   "outputs": [
    {
     "ename": "IndexError",
     "evalue": "list index out of range",
     "output_type": "error",
     "traceback": [
      "\u001b[0;31m---------------------------------------------------------------------------\u001b[0m",
      "\u001b[0;31mIndexError\u001b[0m                                Traceback (most recent call last)",
      "Cell \u001b[0;32mIn[78], line 24\u001b[0m\n\u001b[1;32m     14\u001b[0m     list_all_laws\u001b[38;5;241m.\u001b[39mappend(out_dict)\n\u001b[1;32m     15\u001b[0m \u001b[38;5;66;03m#corpus_raw = [x['testo'] for x in list_all_laws]\u001b[39;00m\n\u001b[1;32m     16\u001b[0m \u001b[38;5;66;03m#corpus = corpus_raw\u001b[39;00m\n\u001b[1;32m     17\u001b[0m \u001b[38;5;66;03m#corpus = [remove_punctuation(x) for x in corpus_raw]\u001b[39;00m\n\u001b[0;32m   (...)\u001b[0m\n\u001b[1;32m     21\u001b[0m \u001b[38;5;66;03m#corpus = [x['titolo'] for x in list_all_laws]\u001b[39;00m\n\u001b[1;32m     22\u001b[0m \u001b[38;5;66;03m#corpus = [x['titolo'] + \" \" + x['legge'] + \" \" + x['numeroAnno'] + \" \" + x['testo'] for x in list_all_laws]\u001b[39;00m\n\u001b[0;32m---> 24\u001b[0m corpus \u001b[38;5;241m=\u001b[39m [x[\u001b[38;5;124m'\u001b[39m\u001b[38;5;124mtitolo\u001b[39m\u001b[38;5;124m'\u001b[39m] \u001b[38;5;241m+\u001b[39m \u001b[38;5;124m\"\u001b[39m\u001b[38;5;124m \u001b[39m\u001b[38;5;124m\"\u001b[39m \u001b[38;5;241m+\u001b[39m x[\u001b[38;5;124m'\u001b[39m\u001b[38;5;124mlegge\u001b[39m\u001b[38;5;124m'\u001b[39m] \u001b[38;5;241m+\u001b[39m \u001b[38;5;124m\"\u001b[39m\u001b[38;5;124m \u001b[39m\u001b[38;5;124m\"\u001b[39m \u001b[38;5;241m+\u001b[39m x[\u001b[38;5;124m'\u001b[39m\u001b[38;5;124mnumeroAnno\u001b[39m\u001b[38;5;124m'\u001b[39m] \u001b[38;5;241m+\u001b[39m \u001b[38;5;124m\"\u001b[39m\u001b[38;5;124m \u001b[39m\u001b[38;5;124m\"\u001b[39m \u001b[38;5;241m+\u001b[39m x[\u001b[38;5;124m'\u001b[39m\u001b[38;5;124marticoli\u001b[39m\u001b[38;5;124m'\u001b[39m][\u001b[38;5;241m0\u001b[39m] \u001b[38;5;241m+\u001b[39m\n\u001b[1;32m     25\u001b[0m           \u001b[38;5;124m\"\u001b[39m\u001b[38;5;124m \u001b[39m\u001b[38;5;124m\"\u001b[39m \u001b[38;5;241m+\u001b[39m x[\u001b[38;5;124m'\u001b[39m\u001b[38;5;124marticoli\u001b[39m\u001b[38;5;124m'\u001b[39m][\u001b[38;5;241m1\u001b[39m] \n\u001b[1;32m     26\u001b[0m           \u001b[38;5;28;01mfor\u001b[39;00m x \u001b[38;5;129;01min\u001b[39;00m list_all_laws]\n",
      "Cell \u001b[0;32mIn[78], line 25\u001b[0m, in \u001b[0;36m<listcomp>\u001b[0;34m(.0)\u001b[0m\n\u001b[1;32m     14\u001b[0m     list_all_laws\u001b[38;5;241m.\u001b[39mappend(out_dict)\n\u001b[1;32m     15\u001b[0m \u001b[38;5;66;03m#corpus_raw = [x['testo'] for x in list_all_laws]\u001b[39;00m\n\u001b[1;32m     16\u001b[0m \u001b[38;5;66;03m#corpus = corpus_raw\u001b[39;00m\n\u001b[1;32m     17\u001b[0m \u001b[38;5;66;03m#corpus = [remove_punctuation(x) for x in corpus_raw]\u001b[39;00m\n\u001b[0;32m   (...)\u001b[0m\n\u001b[1;32m     21\u001b[0m \u001b[38;5;66;03m#corpus = [x['titolo'] for x in list_all_laws]\u001b[39;00m\n\u001b[1;32m     22\u001b[0m \u001b[38;5;66;03m#corpus = [x['titolo'] + \" \" + x['legge'] + \" \" + x['numeroAnno'] + \" \" + x['testo'] for x in list_all_laws]\u001b[39;00m\n\u001b[1;32m     24\u001b[0m corpus \u001b[38;5;241m=\u001b[39m [x[\u001b[38;5;124m'\u001b[39m\u001b[38;5;124mtitolo\u001b[39m\u001b[38;5;124m'\u001b[39m] \u001b[38;5;241m+\u001b[39m \u001b[38;5;124m\"\u001b[39m\u001b[38;5;124m \u001b[39m\u001b[38;5;124m\"\u001b[39m \u001b[38;5;241m+\u001b[39m x[\u001b[38;5;124m'\u001b[39m\u001b[38;5;124mlegge\u001b[39m\u001b[38;5;124m'\u001b[39m] \u001b[38;5;241m+\u001b[39m \u001b[38;5;124m\"\u001b[39m\u001b[38;5;124m \u001b[39m\u001b[38;5;124m\"\u001b[39m \u001b[38;5;241m+\u001b[39m x[\u001b[38;5;124m'\u001b[39m\u001b[38;5;124mnumeroAnno\u001b[39m\u001b[38;5;124m'\u001b[39m] \u001b[38;5;241m+\u001b[39m \u001b[38;5;124m\"\u001b[39m\u001b[38;5;124m \u001b[39m\u001b[38;5;124m\"\u001b[39m \u001b[38;5;241m+\u001b[39m x[\u001b[38;5;124m'\u001b[39m\u001b[38;5;124marticoli\u001b[39m\u001b[38;5;124m'\u001b[39m][\u001b[38;5;241m0\u001b[39m] \u001b[38;5;241m+\u001b[39m\n\u001b[0;32m---> 25\u001b[0m           \u001b[38;5;124m\"\u001b[39m\u001b[38;5;124m \u001b[39m\u001b[38;5;124m\"\u001b[39m \u001b[38;5;241m+\u001b[39m \u001b[43mx\u001b[49m\u001b[43m[\u001b[49m\u001b[38;5;124;43m'\u001b[39;49m\u001b[38;5;124;43marticoli\u001b[39;49m\u001b[38;5;124;43m'\u001b[39;49m\u001b[43m]\u001b[49m\u001b[43m[\u001b[49m\u001b[38;5;241;43m1\u001b[39;49m\u001b[43m]\u001b[49m \n\u001b[1;32m     26\u001b[0m           \u001b[38;5;28;01mfor\u001b[39;00m x \u001b[38;5;129;01min\u001b[39;00m list_all_laws]\n",
      "\u001b[0;31mIndexError\u001b[0m: list index out of range"
     ]
    }
   ],
   "source": [
    "list_all_laws = []\n",
    "corpus = []\n",
    "\n",
    "for ind, doc in enumerate(coll_demetra.find()[0:]):\n",
    "    titolo_orig = doc['titolo']\n",
    "#    titolo = titolo_orig\n",
    "    titolo = clean_title(titolo_orig).lower()\n",
    "    out_dict = {\"titolo\": titolo, \"legge\": doc[\"legge\"], \n",
    "                          \"testo\": doc['testo'].replace(\"\\n\", \" \").lower(), \"numero\": doc[\"numero\"],\n",
    "                        \"legge\": doc['legge'], \"numeroAnno\": doc[\"numeroAnno\"]}\n",
    "\n",
    "    if 'articoli' in doc.keys():\n",
    "        out_dict[\"articoli\"] = list(doc['articoli'].values())\n",
    "    list_all_laws.append(out_dict)\n",
    "\n",
    "    corpus.append(\n",
    "#corpus_raw = [x['testo'] for x in list_all_laws]\n",
    "#corpus = corpus_raw\n",
    "#corpus = [remove_punctuation(x) for x in corpus_raw]\n",
    "#corpus = [remove_stopwords(x) for x in corpus]\n",
    "#corpus = [lemmatization(x) for x in corpus]\n",
    "\n",
    "#corpus = [x['titolo'] for x in list_all_laws]\n",
    "#corpus = [x['titolo'] + \" \" + x['legge'] + \" \" + x['numeroAnno'] + \" \" + x['testo'] for x in list_all_laws]\n",
    "\n",
    "corpus = [x['titolo'] + \" \" + x['legge'] + \" \" + x['numeroAnno'] + \" \" + x['articoli'][0] +\n",
    "          \" \" + x['articoli'][1] \n",
    "          for x in list_all_laws]\n",
    "\n",
    "#keys = [\"titolo\", \"legge\", \"testo\", \"numero legge\"]\n",
    "#corpus = []\n",
    "#for item in list_all_laws[0:]:\n",
    "#    out_str = \"\"\n",
    "#    for k in keys:\n",
    "#        out_str += \" \" + item[k]\n",
    "#    corpus.append(out_str.strip())"
   ]
  },
  {
   "cell_type": "code",
   "execution_count": 75,
   "id": "3fdeda86-bb26-4026-9afe-a659e9f926e3",
   "metadata": {},
   "outputs": [
    {
     "ename": "IndexError",
     "evalue": "list index out of range",
     "output_type": "error",
     "traceback": [
      "\u001b[0;31m---------------------------------------------------------------------------\u001b[0m",
      "\u001b[0;31mIndexError\u001b[0m                                Traceback (most recent call last)",
      "Cell \u001b[0;32mIn[75], line 1\u001b[0m\n\u001b[0;32m----> 1\u001b[0m \u001b[43mcorpus\u001b[49m\u001b[43m[\u001b[49m\u001b[38;5;241;43m4\u001b[39;49m\u001b[43m]\u001b[49m\n",
      "\u001b[0;31mIndexError\u001b[0m: list index out of range"
     ]
    }
   ],
   "source": [
    "corpus[4]"
   ]
  },
  {
   "cell_type": "markdown",
   "id": "e59d00c3-ab01-42f5-ade2-52001898c6a2",
   "metadata": {},
   "source": [
    "### Read question from IB dataset"
   ]
  },
  {
   "cell_type": "code",
   "execution_count": 71,
   "id": "d1890206-9b3e-44ec-8881-e9135408713e",
   "metadata": {},
   "outputs": [],
   "source": [
    "retriever = BM25Retriever(corpus, top_n = 30, threshold = None)\n",
    "#retriever_raw = BM25Retriever(corpus_raw, top_n = 10, threshold = None)"
   ]
  },
  {
   "cell_type": "code",
   "execution_count": 72,
   "id": "917d0058-1635-453d-8962-e6b028d81683",
   "metadata": {},
   "outputs": [],
   "source": [
    "dataset_folder = \"../../../../datasets/instruction_datasets/instruction_dataset_v2\"\n",
    "\n",
    "with open(os.path.join(dataset_folder, \"IB_dataset_train.json\"), \"r\") as f:\n",
    "    IB_dataset_train = json.load(f)\n",
    "\n",
    "with open(os.path.join(dataset_folder, \"IB_dataset_test.json\"), \"r\") as f:\n",
    "    IB_dataset_test = json.load(f)"
   ]
  },
  {
   "cell_type": "code",
   "execution_count": 73,
   "id": "6bfda07c-2c25-45f0-a66c-e3838e534551",
   "metadata": {},
   "outputs": [
    {
     "name": "stdout",
     "output_type": "stream",
     "text": [
      "1058\n",
      "Quali atti attuativi sono stati emanati riguardo alla legge n. 31/1979?\n"
     ]
    }
   ],
   "source": [
    "ind = random.randint(0, len(IB_dataset_train) - 1)\n",
    "#ind = 825\n",
    "print(ind)\n",
    "question = IB_dataset_train[ind]['question']\n",
    "print(question)\n",
    "#print(\"---------------------------------\")\n",
    "#print(IB_dataset[ind]['answer'])"
   ]
  },
  {
   "cell_type": "code",
   "execution_count": 74,
   "id": "b887a9a1-304b-4ac7-82e1-32896d5b660d",
   "metadata": {
    "scrolled": true
   },
   "outputs": [
    {
     "name": "stdout",
     "output_type": "stream",
     "text": [
      "0 - score -1.77062\n",
      "titolo: PARTECIPAZIONE DELLA REGIONE EMILIA-ROMAGNA ALLA \"FONDAZIONE MUSEO PER LA MEMORIA DI USTICA” E ALTRE DISPOSIZIONI URGENTI\n",
      "legge: LEGGE REGIONALE 1 LUGLIO 2024, N. 11\n",
      "--------------\n"
     ]
    }
   ],
   "source": [
    "top_n_inds, top_n_sim = retriever.retrieve(question)\n",
    "\n",
    "for ind_sim, ind in enumerate(top_n_inds):\n",
    "    print(str(ind_sim) + \" - score \" + str(top_n_sim[ind_sim])) \n",
    "    print(\"titolo:\", list_all_laws[ind]['titolo'].upper())\n",
    "    print(\"legge: {}\".format(list_all_laws[ind]['legge'].upper()))\n",
    "          \n",
    "    print(\"--------------\")"
   ]
  },
  {
   "cell_type": "code",
   "execution_count": null,
   "id": "49b099c3-ff15-438f-b483-6a9cbfd5ff11",
   "metadata": {},
   "outputs": [],
   "source": [
    "#corpus_raw"
   ]
  },
  {
   "cell_type": "code",
   "execution_count": null,
   "id": "b71e5398-6450-4900-a9e5-23a20309da58",
   "metadata": {},
   "outputs": [],
   "source": []
  }
 ],
 "metadata": {
  "kernelspec": {
   "display_name": "Python 3 (ipykernel)",
   "language": "python",
   "name": "python3"
  },
  "language_info": {
   "codemirror_mode": {
    "name": "ipython",
    "version": 3
   },
   "file_extension": ".py",
   "mimetype": "text/x-python",
   "name": "python",
   "nbconvert_exporter": "python",
   "pygments_lexer": "ipython3",
   "version": "3.10.14"
  }
 },
 "nbformat": 4,
 "nbformat_minor": 5
}
