{
 "cells": [
  {
   "cell_type": "code",
   "execution_count": null,
   "id": "006ff747-c547-4030-9e27-baf368c4166b",
   "metadata": {},
   "outputs": [],
   "source": [
    "import json\n",
    "from pymongo import MongoClient\n",
    "from bson.objectid import ObjectId\n",
    "import numpy as np\n",
    "import random\n",
    "import re\n",
    "import os\n",
    "import faiss\n",
    "from sentence_transformers import SentenceTransformer\n",
    "import sys\n",
    "sys.path.append(\"../../../\")\n",
    "sys.path.append(\"../\")\n",
    "\n",
    "from utils.helper_functions import clean_title\n",
    "from BM25.BM25_retriever import BM25Retriever\n",
    "#from helper_functions import remove_punctuation, lemmatization#, remove_stopwords\n",
    "from retriever import SAVIARetriever\n",
    "\n",
    "%load_ext autoreload\n",
    "%autoreload 2"
   ]
  },
  {
   "cell_type": "code",
   "execution_count": null,
   "id": "51cc1204-debd-4d41-9254-8f32894dd561",
   "metadata": {},
   "outputs": [],
   "source": [
    "client = MongoClient(\"mongodb://mongo_db:27017\")\n",
    "db = client[\"SAVIA\"]\n",
    "coll_leggi_regionali = db[\"leggiRegionali\"]\n",
    "print(sorted(db.list_collection_names()))"
   ]
  },
  {
   "cell_type": "markdown",
   "id": "85929251-3d21-4652-bde9-65e36d5e262b",
   "metadata": {},
   "source": [
    "### Load dataset"
   ]
  },
  {
   "cell_type": "code",
   "execution_count": null,
   "id": "bb36fb61-3f3c-4517-a0e3-1d8d8d4a545b",
   "metadata": {},
   "outputs": [],
   "source": [
    "dataset_folder = \"../../../../datasets/instruction_datasets/instruction_dataset_v2\"\n",
    "\n",
    "with open(os.path.join(dataset_folder, \"IB_dataset_train.json\"), \"r\") as f:\n",
    "    IB_dataset_train = json.load(f)\n",
    "\n",
    "with open(os.path.join(dataset_folder, \"IB_dataset_test.json\"), \"r\") as f:\n",
    "    IB_dataset_test = json.load(f)"
   ]
  },
  {
   "cell_type": "markdown",
   "id": "6c680e95-af88-4302-8a61-9e7a8736f5ad",
   "metadata": {},
   "source": [
    "### Load NER model"
   ]
  },
  {
   "cell_type": "code",
   "execution_count": null,
   "id": "1389fb87-bae9-4af4-b3c4-ee1af1cf34c6",
   "metadata": {},
   "outputs": [],
   "source": [
    "from gliner import GLiNER\n",
    "\n",
    "model = GLiNER.from_pretrained(\"DeepMount00/GLiNER_ITA_LARGE\", device=\"cuda:0\")\n",
    "labels = [\"anno\"]"
   ]
  },
  {
   "cell_type": "markdown",
   "id": "82ea137a-7a97-4df9-9d26-bfdf2384e76f",
   "metadata": {},
   "source": [
    "### NER"
   ]
  },
  {
   "cell_type": "code",
   "execution_count": null,
   "id": "0a32036e-ecf4-4a58-a661-aaaf67c3e0fa",
   "metadata": {},
   "outputs": [],
   "source": [
    "ind = random.randint(0, len(IB_dataset_train) - 1)\n",
    "#ind = 64\n",
    "print(ind)\n",
    "question = IB_dataset_train[ind]['question']\n",
    "context = IB_dataset_train[ind]['context']\n",
    "gt = context[0]['legge'].upper().replace(\" , \", \", \")\n",
    "\n",
    "print(question)\n",
    "print(gt)\n",
    "\n",
    "entities = model.predict_entities(question, labels)\n",
    "\n",
    "for entity in entities:\n",
    "    print(entity[\"text\"], \"=>\", entity[\"label\"])"
   ]
  },
  {
   "cell_type": "code",
   "execution_count": null,
   "id": "bb8a83e0-c53f-4789-bdc2-52c2758ac9e5",
   "metadata": {},
   "outputs": [],
   "source": []
  },
  {
   "cell_type": "code",
   "execution_count": null,
   "id": "4e8fb87b-45ee-40d3-bc8c-102edeb92b33",
   "metadata": {},
   "outputs": [],
   "source": [
    "# ind wrong [1981 1356 2132 ]   test dataset\n",
    "\n",
    "#[ 1577  ]         train dataset"
   ]
  },
  {
   "cell_type": "code",
   "execution_count": null,
   "id": "2e1eb7d9-8303-4817-943c-99c0dbe22fe9",
   "metadata": {},
   "outputs": [],
   "source": [
    "retriever = SAVIARetriever()"
   ]
  },
  {
   "cell_type": "code",
   "execution_count": null,
   "id": "5e99e4a4-4b72-4802-bc0d-e64fecc6789a",
   "metadata": {},
   "outputs": [],
   "source": [
    "#retriever._id_leggi"
   ]
  },
  {
   "cell_type": "code",
   "execution_count": null,
   "id": "e49bdd93-7dad-4b05-b6d8-311cd549e90d",
   "metadata": {},
   "outputs": [],
   "source": [
    "\n",
    "\n",
    "retrieved_item = retriever.create_prompt(question)\n",
    "retrieved_item\n",
    "#print(retrieved_item['legge'])\n",
    "\n",
    "#if retrieved_item is not None and retrieved_item.upper() != gt:\n",
    "#    print(\"wrong\", retrieved_item, \"  -----   \", gt)\n",
    "#else:\n",
    "#    print(\"ok\")"
   ]
  },
  {
   "cell_type": "code",
   "execution_count": null,
   "id": "6bc50afc-c88d-420a-a6b9-d5e5dedeb59c",
   "metadata": {},
   "outputs": [],
   "source": []
  },
  {
   "cell_type": "code",
   "execution_count": null,
   "id": "cc9d12ed-9232-455b-b3e0-030e49bc418d",
   "metadata": {},
   "outputs": [],
   "source": []
  },
  {
   "cell_type": "code",
   "execution_count": null,
   "id": "48d0e4fc-5a11-4e52-b307-6085587cebe6",
   "metadata": {},
   "outputs": [],
   "source": []
  },
  {
   "cell_type": "code",
   "execution_count": null,
   "id": "de456839-046e-445c-b2ec-2e75fe357649",
   "metadata": {},
   "outputs": [],
   "source": []
  },
  {
   "cell_type": "code",
   "execution_count": null,
   "id": "d7a07969-f1e8-4d20-aefb-23bf8eab279d",
   "metadata": {},
   "outputs": [],
   "source": []
  },
  {
   "cell_type": "code",
   "execution_count": null,
   "id": "1574fe42-b27e-4ca2-b3ae-bc687f6448a0",
   "metadata": {},
   "outputs": [],
   "source": [
    "coll_atti_giunta_regionale = db[\"attiGiuntaRegionale\"]"
   ]
  },
  {
   "cell_type": "code",
   "execution_count": null,
   "id": "f22fbc79-9fb6-4b7e-b8a2-9c4f721ae042",
   "metadata": {},
   "outputs": [],
   "source": [
    "res = coll_atti_giunta_regionale.find_one({'_id': ObjectId('6633a37d584dc13ec6ca4024')})\n",
    "res"
   ]
  },
  {
   "cell_type": "code",
   "execution_count": null,
   "id": "255eac3b-7c12-4885-90d6-f2971dffa455",
   "metadata": {},
   "outputs": [],
   "source": [
    "res['testo']['testo_atto']"
   ]
  },
  {
   "cell_type": "code",
   "execution_count": null,
   "id": "6ce6ccdd-a03d-4702-a940-2eaba36e21f9",
   "metadata": {},
   "outputs": [],
   "source": []
  },
  {
   "cell_type": "code",
   "execution_count": null,
   "id": "723b6f49-4087-4f59-b4d6-30120e7423dd",
   "metadata": {},
   "outputs": [],
   "source": []
  },
  {
   "cell_type": "code",
   "execution_count": null,
   "id": "6ba4c7e6-d132-4b7d-b3f9-c2fcff742ecc",
   "metadata": {},
   "outputs": [],
   "source": []
  },
  {
   "cell_type": "code",
   "execution_count": null,
   "id": "68dd48a1-f74d-46bd-b86a-319952ed0b3c",
   "metadata": {},
   "outputs": [],
   "source": [
    "#res['testo']"
   ]
  },
  {
   "cell_type": "code",
   "execution_count": null,
   "id": "11f8a262-2e63-40bb-baa7-15ade57a525d",
   "metadata": {},
   "outputs": [],
   "source": []
  },
  {
   "cell_type": "code",
   "execution_count": null,
   "id": "755960fd-9a84-40a9-a717-6418e3ee788a",
   "metadata": {},
   "outputs": [],
   "source": []
  },
  {
   "cell_type": "code",
   "execution_count": null,
   "id": "8b83f2d1-cf33-4711-87e5-662e30d10b05",
   "metadata": {},
   "outputs": [],
   "source": []
  },
  {
   "cell_type": "code",
   "execution_count": null,
   "id": "e1d808f9-b8c1-4d9c-82c5-76dca0df01d6",
   "metadata": {},
   "outputs": [],
   "source": [
    "res['_id_atti']"
   ]
  },
  {
   "cell_type": "code",
   "execution_count": null,
   "id": "7d637099-a086-4f00-9daf-1e650052db0c",
   "metadata": {},
   "outputs": [],
   "source": []
  },
  {
   "cell_type": "code",
   "execution_count": null,
   "id": "2e3ef7e7-696a-4cec-b65b-12d5747c5050",
   "metadata": {},
   "outputs": [],
   "source": []
  },
  {
   "cell_type": "code",
   "execution_count": null,
   "id": "2758f83e-b31d-4f5f-9c20-96123f47a41d",
   "metadata": {},
   "outputs": [],
   "source": [
    "res = coll_leggi_regionali.find_one({'_id': ObjectId('663f1fa1e9c699e78e2b8a8b')})"
   ]
  },
  {
   "cell_type": "code",
   "execution_count": null,
   "id": "67d3273b-be58-4e15-8b7d-8dea523c68a6",
   "metadata": {},
   "outputs": [],
   "source": []
  },
  {
   "cell_type": "code",
   "execution_count": null,
   "id": "fdf36c17-14c9-45c4-b079-001edfcf64f9",
   "metadata": {},
   "outputs": [],
   "source": []
  },
  {
   "cell_type": "code",
   "execution_count": null,
   "id": "45a812e1-cc24-44d5-87e0-ab551b7d5262",
   "metadata": {},
   "outputs": [],
   "source": []
  },
  {
   "cell_type": "code",
   "execution_count": null,
   "id": "254f8021-99ab-4d45-b545-14db77b143cf",
   "metadata": {},
   "outputs": [],
   "source": []
  },
  {
   "cell_type": "code",
   "execution_count": null,
   "id": "d5019875-0c33-4d01-9aef-308377fc5e1d",
   "metadata": {},
   "outputs": [],
   "source": [
    "chunk = ' atti attuativi e delle'\n",
    "\n",
    "question_embeddings = embedding_model.encode([chunk.lower()])\n",
    "faiss.normalize_L2(question_embeddings)\n",
    "\n",
    "similarity, item_ids = index.search(question_embeddings, 1)\n",
    "similarity = similarity[0][0]\n",
    "item_ids = item_ids[0][0]\n",
    "print(similarity)"
   ]
  },
  {
   "cell_type": "code",
   "execution_count": null,
   "id": "44db73be-1be2-49ed-8206-92ebe292d603",
   "metadata": {},
   "outputs": [],
   "source": [
    "vector_store_folder = \"../../../../SAVIA_vector_stores\"\n",
    "index = faiss.read_index(os.path.join(vector_store_folder , \"leggiRegionaliAllegati\" + \".faiss\"))\n",
    "\n",
    "with open(os.path.join(\"./\", \"allegati_diciture.json\"), \"r\", encoding=\"utf-8\") as f:\n",
    "    allegati_diciture = json.load(f)\n",
    "\n",
    "chunks_list = []\n",
    "\n",
    "for k, v in allegati_diciture.items():\n",
    "#    print(k, v)\n",
    "    for dicitura in v[0:]:\n",
    "        chunks_list.append(dicitura)"
   ]
  },
  {
   "cell_type": "code",
   "execution_count": null,
   "id": "8013eea3-1a60-44f9-ba42-ff9ae77f632f",
   "metadata": {},
   "outputs": [],
   "source": [
    "print(\"num chunks:\", index.ntotal)"
   ]
  },
  {
   "cell_type": "code",
   "execution_count": null,
   "id": "92aae938-2075-433f-af2c-51b59cb58f6a",
   "metadata": {},
   "outputs": [],
   "source": [
    "len(chunks_list)"
   ]
  },
  {
   "cell_type": "code",
   "execution_count": null,
   "id": "c0102871-d1b4-4fe1-b30a-14c03763b73d",
   "metadata": {},
   "outputs": [],
   "source": []
  },
  {
   "cell_type": "code",
   "execution_count": null,
   "id": "f7e8609c-9fcc-4194-be86-177898df9089",
   "metadata": {},
   "outputs": [],
   "source": [
    "#index = faiss.IndexIDMap2(faiss.IndexFlatIP(embedding_dim))\n",
    "#embedding = embedding_model.encode([chunk.lower()])\n",
    "#faiss.normalize_L2(embedding)\n",
    "#index.add_with_ids(embedding, np.array([0]))"
   ]
  },
  {
   "cell_type": "code",
   "execution_count": null,
   "id": "9800a25d-6eb5-45e4-80b7-8b1a15a0ce5c",
   "metadata": {},
   "outputs": [],
   "source": []
  },
  {
   "cell_type": "code",
   "execution_count": null,
   "id": "b5539ef6-122b-41cd-908c-8545ddbed20d",
   "metadata": {},
   "outputs": [],
   "source": []
  },
  {
   "cell_type": "code",
   "execution_count": null,
   "id": "ad5f45f9-e0b6-4b81-9f4f-188bfc6f6885",
   "metadata": {},
   "outputs": [],
   "source": []
  },
  {
   "cell_type": "code",
   "execution_count": null,
   "id": "91874a9b-90e3-4750-8db9-ab00ece5e45d",
   "metadata": {},
   "outputs": [],
   "source": []
  },
  {
   "cell_type": "markdown",
   "id": "5d52e973-3468-4b5c-a29c-0d926eba48ff",
   "metadata": {},
   "source": [
    "### Load FAISS indices"
   ]
  },
  {
   "cell_type": "code",
   "execution_count": null,
   "id": "c6ce06ba-6710-4314-88db-88197d01a923",
   "metadata": {},
   "outputs": [],
   "source": [
    "vector_store_folder = \"../../../../SAVIA_vector_stores\"\n",
    "index_name = \"leggiRegionaliKeywords\"\n",
    "coll_leggi_regionali_keywords = db[index_name]"
   ]
  },
  {
   "cell_type": "code",
   "execution_count": null,
   "id": "e84c1444-60ef-4d72-9b30-a8fd194ea6ff",
   "metadata": {},
   "outputs": [],
   "source": [
    "leggi_regionali_keywords_index = faiss.read_index(os.path.join(vector_store_folder, \"leggiRegionaliKeywords.faiss\"))"
   ]
  },
  {
   "cell_type": "markdown",
   "id": "cc45da53-a8bb-4e98-a620-f0b3c20cd16c",
   "metadata": {},
   "source": [
    "### Merging two indices"
   ]
  },
  {
   "cell_type": "code",
   "execution_count": null,
   "id": "cf4b7830-a3e5-4510-b107-3c4d133e28cb",
   "metadata": {},
   "outputs": [],
   "source": [
    "# Assuming db1 and db2 are your two FAISS vectorstores\n",
    "#index1 = db1.faiss_index\n",
    "#index2 = db2.faiss_index\n",
    "\n",
    "# Create a new FAISS index with the same dimension as the original indexes\n",
    "#new_index = FAISS.create_faiss_index(index1.d)\n",
    "\n",
    "# Add vectors from both indexes to the new index\n",
    "#new_index.add(np.vstack((index1.reconstruct(i) for i in range(index1.ntotal))))\n",
    "#new_index.add(np.vstack((index2.reconstruct(i) for i in range(index2.ntotal))))\n",
    "\n",
    "# Create a new FAISS vectorstore with the merged index\n",
    "#new_db = FAISS(new_index, db1.embeddings)"
   ]
  },
  {
   "cell_type": "markdown",
   "id": "2fac1914-6992-46c5-ae9c-2ce4119c6c05",
   "metadata": {},
   "source": [
    "### Retrieve content with BM25"
   ]
  },
  {
   "cell_type": "code",
   "execution_count": null,
   "id": "e712b5d2-d46a-472e-81fc-46543f443d78",
   "metadata": {},
   "outputs": [],
   "source": [
    "list_all_laws = []\n",
    "corpus = []\n",
    "\n",
    "for ind, doc in enumerate(coll_leggi_regionali.find()[0:]):\n",
    "    titolo_orig = doc['titolo']\n",
    "#    titolo = titolo_orig\n",
    "    titolo = clean_title(titolo_orig).lower()\n",
    "    out_dict = {\"titolo\": titolo, \"legge\": doc[\"legge\"], \n",
    "                          \"testo\": doc['testo'].replace(\"\\n\", \" \").lower(),#, \"numero\": doc[\"numero\"],\n",
    "                        \"legge\": doc['legge']}#, \"numeroAnno\": doc[\"numeroAnno\"]}\n",
    "\n",
    "    if 'articoli' in doc.keys():\n",
    "        articoli = list(doc['articoli'].values())\n",
    "        articoli_str = \" \".join([x for x in articoli[0:2]]).lower()\n",
    "        \n",
    "        out_dict[\"articoli\"] = articoli_str\n",
    "\n",
    "    list_all_laws.append(out_dict)\n",
    "\n",
    "    corpus.append(\" \".join(list(out_dict.values())))"
   ]
  },
  {
   "cell_type": "code",
   "execution_count": null,
   "id": "6362d912-bf8a-4fde-9e08-c7b389eba7e0",
   "metadata": {},
   "outputs": [],
   "source": [
    "bm25_retriever = BM25Retriever(corpus, top_n = 30, threshold = None)"
   ]
  },
  {
   "cell_type": "code",
   "execution_count": null,
   "id": "96cf316c-b759-4d8b-81e5-df224f088855",
   "metadata": {},
   "outputs": [],
   "source": [
    "ind = random.randint(0, len(IB_dataset_train) - 1)\n",
    "#ind = 825\n",
    "print(ind)\n",
    "question = IB_dataset_train[ind]['question']\n",
    "context = IB_dataset_train[ind]['context']\n",
    "gt = context[0]['legge'].upper().replace(\" , \", \", \")\n",
    "\n",
    "print(question)"
   ]
  },
  {
   "cell_type": "code",
   "execution_count": null,
   "id": "0bc11a0f-fc54-471a-90e9-ed9c35da26f5",
   "metadata": {},
   "outputs": [],
   "source": [
    "top_n_inds, top_n_sim = bm25_retriever.retrieve(question)\n",
    "\n",
    "for ind_sim, ind in enumerate(top_n_inds):\n",
    "    pred = list_all_laws[ind]['legge'].upper().replace(\" , \", \", \")\n",
    "#    print(str(ind_sim) + \" - score \" + str(top_n_sim[ind_sim])) \n",
    "\n",
    "#    print(\"PRED: {}\".format(pred), \"  ----   GT: {}\".format(gt))\n",
    "#    print(\"titolo:\", list_all_laws[ind]['titolo'].upper())\n",
    "\n",
    "    if pred == gt:\n",
    "        print(\"True document\")\n",
    "        print(str(ind_sim) + \" - score \" + str(top_n_sim[ind_sim])) \n",
    "\n",
    "        print(\"PRED: {}\".format(pred), \"  ----   GT: {}\".format(gt))\n",
    "        print(\"titolo:\", list_all_laws[ind]['titolo'].upper())\n",
    "#    print(\"--------------\")"
   ]
  },
  {
   "cell_type": "code",
   "execution_count": null,
   "id": "43e29019-da5b-41fd-baef-974c25d0d2b6",
   "metadata": {},
   "outputs": [],
   "source": [
    "#top_m = 5\n",
    "#question_embedding = embedding_model.encode([question.lower()])\n",
    "#faiss.normalize_L2(question_embedding)\n",
    "\n",
    "#similarity, item_ids = leggi_regionali_keywords_index.search(question_embedding, top_m)\n",
    "#similarity = similarity[0]\n",
    "#item_ids = item_ids[0]\n",
    "\n",
    "#for ind_item, item_id in enumerate(item_ids[0:]):\n",
    "#    print(item_id)\n",
    "#    print(\"PRED ANSWER:\", list_texts[item_id], \" - sim:\", round(similarity[ind_item], 3))\n",
    "\n",
    "#    res_chunk = coll_leggi_regionali_keywords.find_one({\"_id_faiss\": int(item_id)})\n",
    "#    _id_legge = res_chunk['_id_legge']\n",
    "#    res_legge = coll_leggi_regionali.find_one({\"_id\": _id_legge})\n",
    "#    legge = res_legge['legge']\n",
    "#    print(\"legge:\", legge, \"- sim:\", round(similarity[ind_item], 3))"
   ]
  },
  {
   "cell_type": "code",
   "execution_count": null,
   "id": "57677c53-e998-4047-b282-62f6feed7310",
   "metadata": {},
   "outputs": [],
   "source": []
  },
  {
   "cell_type": "code",
   "execution_count": null,
   "id": "33b7e0a3-5ca5-4e3b-a47f-cd39427e1459",
   "metadata": {},
   "outputs": [],
   "source": []
  },
  {
   "cell_type": "code",
   "execution_count": null,
   "id": "5fdb05c5-32ee-4dd2-b4b8-d6aef1e01de8",
   "metadata": {},
   "outputs": [],
   "source": []
  },
  {
   "cell_type": "code",
   "execution_count": null,
   "id": "77caaa67-199f-4187-b674-8297621cfceb",
   "metadata": {},
   "outputs": [],
   "source": [
    "retrieved_item"
   ]
  },
  {
   "cell_type": "code",
   "execution_count": null,
   "id": "9f72f8ba-671e-4cdf-8901-6d0bed94ab4e",
   "metadata": {},
   "outputs": [],
   "source": [
    "chunk = 'i atti della legge regionale n'\n",
    "\n",
    "question_embeddings = embedding_model.encode([chunk.lower()])\n",
    "faiss.normalize_L2(question_embeddings)"
   ]
  },
  {
   "cell_type": "code",
   "execution_count": null,
   "id": "b7fe16e9-eb59-4aab-8a9e-ec360937aad7",
   "metadata": {},
   "outputs": [],
   "source": [
    "similarity, item_ids = retriever.leggi_regionali_allegati_index.search(question_embeddings, 1)\n",
    "#similarity = similarity[0]\n",
    "#item_ids = item_ids[0]\n",
    "print(similarity, item_ids)"
   ]
  },
  {
   "cell_type": "code",
   "execution_count": null,
   "id": "5f2bdf6f-0809-4455-8f6b-b1eec628f608",
   "metadata": {},
   "outputs": [],
   "source": []
  },
  {
   "cell_type": "code",
   "execution_count": null,
   "id": "c3c97262-1c2e-4b69-88ca-7d53cb14b2b6",
   "metadata": {},
   "outputs": [],
   "source": [
    "question_embeddings.shape"
   ]
  },
  {
   "cell_type": "code",
   "execution_count": null,
   "id": "5a417b35-bac8-4ee9-b4e5-fa6f7d471fdd",
   "metadata": {},
   "outputs": [],
   "source": []
  },
  {
   "cell_type": "code",
   "execution_count": null,
   "id": "b663a07f-1b26-4f90-a733-39b838ae1a97",
   "metadata": {},
   "outputs": [],
   "source": []
  },
  {
   "cell_type": "code",
   "execution_count": null,
   "id": "9f54a8a0-0e1a-4139-969d-5c7b14433409",
   "metadata": {},
   "outputs": [],
   "source": []
  },
  {
   "cell_type": "code",
   "execution_count": null,
   "id": "e5092aea-b25d-423d-a38c-44714414537b",
   "metadata": {},
   "outputs": [],
   "source": [
    "index = faiss.IndexIDMap2(faiss.IndexFlatIP(embedding_dim))\n",
    "embedding = embedding_model.encode([chunk.lower()])\n",
    "faiss.normalize_L2(embedding)\n",
    "index.add_with_ids(embedding, np.array([0]))"
   ]
  },
  {
   "cell_type": "code",
   "execution_count": null,
   "id": "dba2f4a1-656d-412d-a56b-6960d832a45c",
   "metadata": {},
   "outputs": [],
   "source": [
    "question_embeddings = embedding_model.encode([\"provvedimenti attuativi\".lower()])\n",
    "faiss.normalize_L2(question_embeddings)\n",
    "\n",
    "similarity, item_ids = index.search(question_embeddings, 1)\n",
    "similarity = similarity[0][0]\n",
    "item_ids = item_ids[0][0]\n",
    "print(similarity)"
   ]
  },
  {
   "cell_type": "code",
   "execution_count": null,
   "id": "3c7a1351-318e-4ea5-9b1b-db5aa48d2edd",
   "metadata": {},
   "outputs": [],
   "source": [
    "question"
   ]
  },
  {
   "cell_type": "code",
   "execution_count": null,
   "id": "9da33749-2595-4807-a5b4-b7eca1701834",
   "metadata": {},
   "outputs": [],
   "source": []
  },
  {
   "cell_type": "code",
   "execution_count": null,
   "id": "967848e1-c01f-466a-a041-c257cb9246cc",
   "metadata": {},
   "outputs": [],
   "source": []
  },
  {
   "cell_type": "code",
   "execution_count": null,
   "id": "2d42ef91-c598-444b-b13d-d2bfbae22905",
   "metadata": {},
   "outputs": [],
   "source": [
    "good = 0\n",
    "bad = 0\n",
    "\n",
    "for ind in range(0, len(IB_dataset_train)):\n",
    "#for ind in range(0, 1000):\n",
    "    question = IB_dataset_train[ind]['question']\n",
    "    context = IB_dataset_train[ind]['context']\n",
    "    gt = context[0]['legge'].upper().replace(\" , \", \", \")\n",
    "\n",
    "    retrieved_item = retriever.retrieve(question)\n",
    "    #print(retrieved_item)\n",
    "    \n",
    "    if retrieved_item.upper() != gt:\n",
    "#        print(\"wrong\", retrieved_item, \"  -----   \", gt)\n",
    "        bad += 1\n",
    "    else:\n",
    "#        print(\"ok\")\n",
    "        good += 1\n",
    "\n",
    "print(\"accuracy:\", good/(good+bad))"
   ]
  },
  {
   "cell_type": "code",
   "execution_count": null,
   "id": "af9c7d0d-18f9-4305-b810-0856569212df",
   "metadata": {},
   "outputs": [],
   "source": [
    "#results"
   ]
  },
  {
   "cell_type": "code",
   "execution_count": null,
   "id": "c68503a4-84c7-48c0-8620-630ce57b9278",
   "metadata": {},
   "outputs": [],
   "source": []
  },
  {
   "cell_type": "code",
   "execution_count": null,
   "id": "59db9e0b-9778-4c0a-afa7-317b78deb76c",
   "metadata": {},
   "outputs": [],
   "source": []
  },
  {
   "cell_type": "code",
   "execution_count": null,
   "id": "8ed0b1bd-b273-4454-ae96-db25159bccd0",
   "metadata": {},
   "outputs": [],
   "source": [
    "retrieved_item = retriever.retrieve(question)\n",
    "retrieved_item"
   ]
  },
  {
   "cell_type": "code",
   "execution_count": null,
   "id": "64889a01-63f1-4e94-86f9-ac4d2c5391a7",
   "metadata": {},
   "outputs": [],
   "source": []
  },
  {
   "cell_type": "code",
   "execution_count": null,
   "id": "c0e9daf4-75b7-43fc-aa52-ce8b98a51b8a",
   "metadata": {},
   "outputs": [],
   "source": []
  },
  {
   "cell_type": "code",
   "execution_count": null,
   "id": "bac12e8f-f4eb-4557-bde5-1fa026a6ed50",
   "metadata": {},
   "outputs": [],
   "source": [
    "chunk = \"RETE ESCURSIONISTICA DELL'EMILIA-ROMAGNA E VALORIZZAZIONE DELLE ATTIVITÀ ESCURSIONISTICHE\""
   ]
  },
  {
   "cell_type": "code",
   "execution_count": null,
   "id": "c09a4a78-96ef-4d1c-a380-728a492b2fe2",
   "metadata": {},
   "outputs": [],
   "source": [
    "index = faiss.IndexIDMap2(faiss.IndexFlatIP(embedding_dim))\n",
    "embedding = embedding_model.encode([chunk.lower()])\n",
    "faiss.normalize_L2(embedding)\n",
    "index.add_with_ids(embedding, np.array([0]))"
   ]
  },
  {
   "cell_type": "code",
   "execution_count": null,
   "id": "7a6c666a-ed8f-4dd4-a6c3-abc868c61207",
   "metadata": {},
   "outputs": [],
   "source": [
    "question_embeddings = embedding_model.encode([question.lower()])\n",
    "faiss.normalize_L2(question_embeddings)\n",
    "\n",
    "similarity, item_ids = index.search(question_embeddings, 1)\n",
    "similarity = similarity[0][0]\n",
    "item_ids = item_ids[0][0]\n",
    "print(similarity)"
   ]
  },
  {
   "cell_type": "code",
   "execution_count": null,
   "id": "8d41bf30-55bd-480e-9706-0a19d7bb9f36",
   "metadata": {},
   "outputs": [],
   "source": []
  },
  {
   "cell_type": "code",
   "execution_count": null,
   "id": "7ee45086-2b74-4cbd-b140-230eccb4afa6",
   "metadata": {},
   "outputs": [],
   "source": []
  },
  {
   "cell_type": "code",
   "execution_count": null,
   "id": "f5925f57-cb90-4dfd-87ee-e65879e053ae",
   "metadata": {},
   "outputs": [],
   "source": []
  },
  {
   "cell_type": "code",
   "execution_count": null,
   "id": "8d61e997-8f10-44b6-9768-5eda94193e50",
   "metadata": {},
   "outputs": [],
   "source": [
    "res = coll_leggi_regionali.find_one({\"_id\": retriever._id_leggi[579]})\n",
    "res['legge']"
   ]
  },
  {
   "cell_type": "code",
   "execution_count": null,
   "id": "ea6bd10a-0702-435e-b672-c307736364aa",
   "metadata": {},
   "outputs": [],
   "source": [
    "list(res['testo_orig']['articoli'].values())[0:2]"
   ]
  },
  {
   "cell_type": "code",
   "execution_count": null,
   "id": "f3b53624-a288-4f2f-88ac-a5e43b315ef8",
   "metadata": {},
   "outputs": [],
   "source": []
  },
  {
   "cell_type": "code",
   "execution_count": null,
   "id": "1a6ec8b5-c3fe-42f4-ba17-5d85c66c3c7d",
   "metadata": {},
   "outputs": [],
   "source": []
  },
  {
   "cell_type": "code",
   "execution_count": null,
   "id": "aac2e687-fc70-4401-b00c-1b82b031675e",
   "metadata": {},
   "outputs": [],
   "source": []
  },
  {
   "cell_type": "code",
   "execution_count": null,
   "id": "81d0be75-736a-441a-9280-791e8317397b",
   "metadata": {},
   "outputs": [],
   "source": []
  },
  {
   "cell_type": "code",
   "execution_count": null,
   "id": "8053f3b7-93aa-4ea5-94ee-24d588687c0a",
   "metadata": {},
   "outputs": [],
   "source": [
    "retriever._id_leggi[579]"
   ]
  },
  {
   "cell_type": "code",
   "execution_count": null,
   "id": "db8f2f21-a53c-4846-a651-6e09b5f2bf44",
   "metadata": {},
   "outputs": [],
   "source": [
    "res = coll_leggi_regionali.find_one({\"_id\": retriever._id_leggi[579]})\n",
    "res['legge']"
   ]
  },
  {
   "cell_type": "code",
   "execution_count": null,
   "id": "ddff0738-dd9a-4dc2-867c-a4195a01f732",
   "metadata": {},
   "outputs": [],
   "source": []
  },
  {
   "cell_type": "code",
   "execution_count": null,
   "id": "08ec4d23-639f-4a16-8be6-9e25da96c9fb",
   "metadata": {},
   "outputs": [],
   "source": [
    "top_m = 1\n",
    "question_embedding = embedding_model.encode(texts)\n",
    "faiss.normalize_L2(question_embedding)\n",
    "\n",
    "similarity, item_ids = leggi_regionali_keywords_index.search(question_embedding, top_m)\n",
    "similarity = similarity[:, 0]\n",
    "item_ids = item_ids[:, 0]\n",
    "\n",
    "max_similarity_id = np.argmax(similarity)\n",
    "best_similarity = similarity[max_similarity_id]\n",
    "best_item_id = item_ids[max_similarity_id]\n",
    "\n",
    "\n",
    "    res_chunk = coll_leggi_regionali_keywords.find_one({\"_id_faiss\": int(item_id)})\n",
    "    _id_legge = res_chunk['_id_legge']\n",
    "    res_legge = coll_leggi_regionali.find_one({\"_id\": _id_legge})\n",
    "    legge = res_legge['legge']\n",
    "    print(\"legge:\", legge, \"- sim:\", round(best_similarity[ind_item], 3))\n",
    "\n",
    "for ind_item, item_id in enumerate(best_item_id[0:]):\n",
    "#    print(item_id)\n",
    "#    print(\"PRED ANSWER:\", list_texts[item_id], \" - sim:\", round(similarity[ind_item], 3))\n",
    "\n",
    "    res_chunk = coll_leggi_regionali_keywords.find_one({\"_id_faiss\": int(item_id)})\n",
    "    _id_legge = res_chunk['_id_legge']\n",
    "    res_legge = coll_leggi_regionali.find_one({\"_id\": _id_legge})\n",
    "    legge = res_legge['legge']\n",
    "    print(\"legge:\", legge, \"- sim:\", round(best_similarity[ind_item], 3))"
   ]
  },
  {
   "cell_type": "code",
   "execution_count": null,
   "id": "30d96b28-f18a-45c9-9667-0f80bae4d54a",
   "metadata": {},
   "outputs": [],
   "source": [
    "best_item_id"
   ]
  },
  {
   "cell_type": "code",
   "execution_count": null,
   "id": "194c163e-b942-4640-a8e7-0666eed31c15",
   "metadata": {},
   "outputs": [],
   "source": [
    "item_ids"
   ]
  },
  {
   "cell_type": "code",
   "execution_count": null,
   "id": "579bc3af-0fc0-4f22-9e03-cae5e007af33",
   "metadata": {},
   "outputs": [],
   "source": [
    "np.argmax(similarity)"
   ]
  },
  {
   "cell_type": "code",
   "execution_count": null,
   "id": "2f7d0914-4a02-4452-b5c6-40fc93328ee2",
   "metadata": {},
   "outputs": [],
   "source": []
  },
  {
   "cell_type": "code",
   "execution_count": null,
   "id": "4485bda1-777c-476d-a1d1-2d4b41431b9f",
   "metadata": {},
   "outputs": [],
   "source": []
  },
  {
   "cell_type": "markdown",
   "id": "be391789-c41e-4211-82a3-816cc0d20a57",
   "metadata": {},
   "source": [
    "### Test search over a subset"
   ]
  },
  {
   "cell_type": "code",
   "execution_count": null,
   "id": "12f0ae6f-328d-4c3d-aa58-bf439ef5d5fe",
   "metadata": {},
   "outputs": [],
   "source": [
    "import numpy as np\n",
    "import faiss\n",
    "\n",
    "# Set random seed for reproducibility\n",
    "np.random.seed(0)\n",
    "\n",
    "# Create a set of 5 small binary vectors\n",
    "vectors = np.array([[1., 0., 1.],\n",
    "                    [0., 1., 0.],\n",
    "                    [1., 1., 0.],\n",
    "                    [0., 0., 1.],\n",
    "                    [1., 0., 0.]]).astype(np.float32)\n",
    "\n",
    "# Initialize an index with the Hamming distance measure\n",
    "index = faiss.IndexFlatL2(vectors.shape[1])\n",
    "\n",
    "# Add vectors to the index\n",
    "index.add(vectors)\n",
    "\n",
    "# Perform a similarity search\n",
    "query_vector = np.array([[1, 1, 0]], dtype=np.float32)\n",
    "k = 3  # Number of nearest neighbors to retrieve\n",
    "\n",
    "distances, indices = index.search(query_vector, k)\n",
    "print(indices)"
   ]
  },
  {
   "cell_type": "code",
   "execution_count": null,
   "id": "3c8d83af-4e83-404d-b97f-296da38962ad",
   "metadata": {},
   "outputs": [],
   "source": [
    "res = np.int64(4)"
   ]
  },
  {
   "cell_type": "code",
   "execution_count": null,
   "id": "cdf67d70-9bb8-41a1-aa66-cd8c30f9a4da",
   "metadata": {},
   "outputs": [],
   "source": [
    "type(res)"
   ]
  },
  {
   "cell_type": "code",
   "execution_count": null,
   "id": "046e6379-d719-4a23-90c4-919f02735d03",
   "metadata": {},
   "outputs": [],
   "source": []
  },
  {
   "cell_type": "code",
   "execution_count": null,
   "id": "484e89a5-e4c3-47f0-ac0d-105e25767d07",
   "metadata": {},
   "outputs": [],
   "source": [
    "filter_ids = np.array([0, 1, 2, 3], dtype = np.int64)\n",
    "id_selector = faiss.IDSelectorArray(4, filter_ids)\n",
    "\n",
    "#filtered_distances, filtered_indices = index.search(query_vector, k, params=faiss.SearchParametersIVF(sel=id_selector))\n",
    "#print(filtered_indices)"
   ]
  },
  {
   "cell_type": "code",
   "execution_count": null,
   "id": "ff98ed97-3eb1-401a-977e-ebf49b54f173",
   "metadata": {},
   "outputs": [],
   "source": [
    "help(faiss.IDSelectorArray)"
   ]
  },
  {
   "cell_type": "code",
   "execution_count": null,
   "id": "c786ecd5-ea11-4205-bd8e-ee773a538e0c",
   "metadata": {},
   "outputs": [],
   "source": []
  },
  {
   "cell_type": "code",
   "execution_count": null,
   "id": "707b4f66-adb5-4755-a69d-a673a3a44723",
   "metadata": {},
   "outputs": [],
   "source": []
  },
  {
   "cell_type": "code",
   "execution_count": null,
   "id": "d3e27cb6-b8d0-4bde-902f-4e8f73e78a26",
   "metadata": {},
   "outputs": [],
   "source": [
    "type(vectors[0][0])"
   ]
  },
  {
   "cell_type": "code",
   "execution_count": null,
   "id": "55fbd997-1276-462a-a308-f7f031998882",
   "metadata": {},
   "outputs": [],
   "source": []
  },
  {
   "cell_type": "code",
   "execution_count": null,
   "id": "f0bb3aa3-f1bd-4a76-9927-af941ff759a2",
   "metadata": {},
   "outputs": [],
   "source": []
  },
  {
   "cell_type": "code",
   "execution_count": null,
   "id": "b607d8ea-d1ee-463b-9deb-9847a4eadbdf",
   "metadata": {},
   "outputs": [],
   "source": []
  },
  {
   "cell_type": "code",
   "execution_count": null,
   "id": "86506d6b-cb77-4b3c-852c-6f68f498f0c3",
   "metadata": {},
   "outputs": [],
   "source": [
    "coll_leggi_regionali_keywords.find_one({\"_id_faiss\": int(item_id)})"
   ]
  },
  {
   "cell_type": "code",
   "execution_count": null,
   "id": "4151580f-7932-4a6c-981d-f3f48c5dbb90",
   "metadata": {},
   "outputs": [],
   "source": [
    "for doc in coll_leggi_regionali_keywords.find()[240998:240999]:\n",
    "    print(doc)"
   ]
  },
  {
   "cell_type": "code",
   "execution_count": null,
   "id": "62d17716-bd9b-4149-96ac-9ea7ccbe7151",
   "metadata": {},
   "outputs": [],
   "source": []
  },
  {
   "cell_type": "code",
   "execution_count": null,
   "id": "8c4f0d1f-ed92-48bc-a973-df438468bdd3",
   "metadata": {},
   "outputs": [],
   "source": [
    "top_n_inds, top_n_sim = retriever.retrieve(question)\n",
    "\n",
    "for ind_sim, ind in enumerate(top_n_inds):\n",
    "    print(str(ind_sim) + \" - score \" + str(top_n_sim[ind_sim])) \n",
    "    print(\"titolo:\", list_all_laws[ind]['titolo'].upper())\n",
    "    print(\"legge: {}\".format(list_all_laws[ind]['legge'].upper()))\n",
    "          \n",
    "    print(\"--------------\")"
   ]
  },
  {
   "cell_type": "code",
   "execution_count": null,
   "id": "af3404b1-73c7-44c9-b03d-0aab1a7c9a75",
   "metadata": {},
   "outputs": [],
   "source": []
  },
  {
   "cell_type": "code",
   "execution_count": null,
   "id": "d5ad61d1-3aed-4c95-9701-2339761eb37a",
   "metadata": {},
   "outputs": [],
   "source": []
  }
 ],
 "metadata": {
  "kernelspec": {
   "display_name": "Python 3 (ipykernel)",
   "language": "python",
   "name": "python3"
  },
  "language_info": {
   "codemirror_mode": {
    "name": "ipython",
    "version": 3
   },
   "file_extension": ".py",
   "mimetype": "text/x-python",
   "name": "python",
   "nbconvert_exporter": "python",
   "pygments_lexer": "ipython3",
   "version": "3.10.14"
  }
 },
 "nbformat": 4,
 "nbformat_minor": 5
}
