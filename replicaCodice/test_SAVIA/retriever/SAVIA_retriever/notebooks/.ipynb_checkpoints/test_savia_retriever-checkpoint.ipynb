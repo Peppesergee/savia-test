{
 "cells": [
  {
   "cell_type": "code",
   "execution_count": null,
   "id": "006ff747-c547-4030-9e27-baf368c4166b",
   "metadata": {},
   "outputs": [],
   "source": [
    "import json\n",
    "from pymongo import MongoClient\n",
    "from bson.objectid import ObjectId\n",
    "import numpy as np\n",
    "import random\n",
    "import re\n",
    "import os\n",
    "import faiss\n",
    "from sentence_transformers import SentenceTransformer\n",
    "import sys\n",
    "sys.path.extend([\"../../../../\", \"../../\", \"../\"])\n",
    "\n",
    "from utils.helper_functions import clean_title\n",
    "from vector_stores.helper_functions import generate_law_wording\n",
    "#from BM25.BM25_retriever import BM25Retriever\n",
    "#from helper_functions import remove_punctuation, lemmatization#, remove_stopwords\n",
    "from retriever import SAVIARetriever\n",
    "\n",
    "%load_ext autoreload\n",
    "%autoreload 2"
   ]
  },
  {
   "cell_type": "code",
   "execution_count": null,
   "id": "51cc1204-debd-4d41-9254-8f32894dd561",
   "metadata": {},
   "outputs": [],
   "source": [
    "client = MongoClient(\"mongodb://mongo_db:27017\")\n",
    "db_SAVIA = client[\"SAVIA\"]\n",
    "db_SAVIA_NLU = client[\"SAVIA_NLU\"]\n",
    "coll_leggi_regionali = db_SAVIA[\"leggiRegionali\"]\n",
    "print(sorted(db_SAVIA_NLU.list_collection_names()))"
   ]
  },
  {
   "cell_type": "code",
   "execution_count": null,
   "id": "40f3776f-7259-4504-a9fc-dd39f1c0f46d",
   "metadata": {},
   "outputs": [],
   "source": [
    "#docs = list(coll_leggi_regionali.find())"
   ]
  },
  {
   "cell_type": "code",
   "execution_count": null,
   "id": "a4bb4f94-f705-4757-b686-2b9faa3a28a3",
   "metadata": {},
   "outputs": [],
   "source": [
    "#fields = ['legge', 'titolo', 'summary', 'keywords']\n",
    "#[v for k, v in random.choice(docs).items() if k in fields]"
   ]
  },
  {
   "cell_type": "markdown",
   "id": "85929251-3d21-4652-bde9-65e36d5e262b",
   "metadata": {},
   "source": [
    "### Load dataset"
   ]
  },
  {
   "cell_type": "code",
   "execution_count": null,
   "id": "bb36fb61-3f3c-4517-a0e3-1d8d8d4a545b",
   "metadata": {},
   "outputs": [],
   "source": [
    "dataset_folder = \"../../../../../datasets/instruction_datasets/instruction_dataset_v3\"\n",
    "\n",
    "with open(os.path.join(dataset_folder, \"IB_dataset.json\"), \"r\") as f:\n",
    "    IB_dataset = json.load(f)\n",
    "\n",
    "with open(os.path.join(dataset_folder, \"general_questions_dataset.json\"), \"r\") as f:\n",
    "    general_questions_dataset = json.load(f)\n",
    "\n",
    "with open(os.path.join(dataset_folder, \"other_questions_dataset.json\"), \"r\") as f:\n",
    "    other_questions_dataset = json.load(f)"
   ]
  },
  {
   "cell_type": "markdown",
   "id": "bf09f8e0-4064-47d0-88b6-2a07e30a74d9",
   "metadata": {},
   "source": [
    "### Test on IB dataset"
   ]
  },
  {
   "cell_type": "code",
   "execution_count": null,
   "id": "680d1547-6122-42fc-a094-e98e41934ac6",
   "metadata": {
    "scrolled": true
   },
   "outputs": [],
   "source": [
    "retriever = SAVIARetriever(vector_store_folder = \"../../../../../SAVIA_vector_stores\")"
   ]
  },
  {
   "cell_type": "code",
   "execution_count": null,
   "id": "e49bdd93-7dad-4b05-b6d8-311cd549e90d",
   "metadata": {
    "scrolled": true
   },
   "outputs": [],
   "source": [
    "ind = random.randint(0, len(IB_dataset) - 1)\n",
    "#ind = 234\n",
    "print(ind)\n",
    "item = IB_dataset[ind]\n",
    "question = item['question']\n",
    "\n",
    "#question = \"Qual è la legge vigente sulla raccolta dei tartufi, e i suoi atti attuativi emanati nel 2021?\"\n",
    "#question = \"Quanti sono gli atti attuativi che riguardano la legge n. 11 del 1983 emanati nel 1983?\"\n",
    "\n",
    "context = item['context']\n",
    "gt = context[0]['legge'].upper().replace(\" , \", \", \")\n",
    "\n",
    "#question = \"Quali sono le leggi regionali che riguardano la promozione dell'agricoltura biologica, e i rispettivi atti attuativi?\" \n",
    "#question = \"Quali atti attuativi sono stati emanati riguardo alla legge n. 20/2017 nel 2024?\"\n",
    "\n",
    "print(question)\n",
    "print()\n",
    "retrieved_item = retriever.create_prompt(question)\n",
    "print(\"num retrieved items:\", len(retrieved_item))\n",
    "\n",
    "print(\"GT:  \", gt)\n",
    "if len(retrieved_item) > 0:\n",
    "    print(\"PRED:\", retrieved_item[0]['legge'].upper())"
   ]
  },
  {
   "cell_type": "code",
   "execution_count": null,
   "id": "719599e0-46ee-4e16-8381-77aae25c6f12",
   "metadata": {},
   "outputs": [],
   "source": [
    "retrieved_item"
   ]
  },
  {
   "cell_type": "code",
   "execution_count": null,
   "id": "92844d32-5412-416e-b52a-e8cc454747ab",
   "metadata": {},
   "outputs": [],
   "source": []
  },
  {
   "cell_type": "code",
   "execution_count": null,
   "id": "4e54ac16-0c40-4ecc-8298-a2aedb0ba222",
   "metadata": {},
   "outputs": [],
   "source": [
    "print(sorted(db_SAVIA.list_collection_names()))"
   ]
  },
  {
   "cell_type": "code",
   "execution_count": null,
   "id": "b65bcc06-76c7-4f76-bd38-cbee6c423f50",
   "metadata": {},
   "outputs": [],
   "source": [
    "coll_atti_giunta = db_SAVIA['attiGiuntaRegionale']"
   ]
  },
  {
   "cell_type": "code",
   "execution_count": null,
   "id": "54c89c03-3401-421e-8d63-019a8cfa4a52",
   "metadata": {},
   "outputs": [],
   "source": [
    "v = [ObjectId('66377ad506974927553477fd'), ObjectId('663cf0c1f42b67f2890eb147'), ObjectId('663c9eeb37cc70e2c6794b8c'), ObjectId('663cf0a9f42b67f2890eb120'), ObjectId('66376df70697492755346b8d')]\n",
    "\n",
    "res = list(coll_atti_giunta.find({\"_id\": {\"$in\": v}}))"
   ]
  },
  {
   "cell_type": "code",
   "execution_count": null,
   "id": "1517457c-5236-4c8b-8d52-3651fe727fec",
   "metadata": {},
   "outputs": [],
   "source": [
    "type(res[0]['anno'])"
   ]
  },
  {
   "cell_type": "code",
   "execution_count": null,
   "id": "d4f7d1a2-306d-4b95-aa62-b37f52a03734",
   "metadata": {},
   "outputs": [],
   "source": []
  },
  {
   "cell_type": "code",
   "execution_count": null,
   "id": "f0cd4b4b-8ea4-4280-9b04-a2db3b8d26b3",
   "metadata": {},
   "outputs": [],
   "source": [
    "data = list(db_SAVIA_NLU['leggiRegionaliHQonLaw'].find())"
   ]
  },
  {
   "cell_type": "code",
   "execution_count": null,
   "id": "5a9d0bea-f75b-48ce-b617-63cc0acc9881",
   "metadata": {},
   "outputs": [],
   "source": [
    "for item in data[0:]:\n",
    "    db_SAVIA_NLU['leggiRegionaliHQonLaw'].update_one({ \"_id\": item['_id']}, { \"$rename\": { '_id_legge': '_id_law'}})"
   ]
  },
  {
   "cell_type": "code",
   "execution_count": null,
   "id": "83aa42ad-1190-47c9-9ddf-86dffd00100b",
   "metadata": {},
   "outputs": [],
   "source": [
    "item"
   ]
  },
  {
   "cell_type": "code",
   "execution_count": null,
   "id": "39ad58e6-0499-4aa5-a2d7-f2cac9dc00a6",
   "metadata": {},
   "outputs": [],
   "source": []
  },
  {
   "cell_type": "code",
   "execution_count": null,
   "id": "edf2e49d-8fd5-4643-9d1a-8ad31e9bdb01",
   "metadata": {},
   "outputs": [],
   "source": [
    "for doc in db_SAVIA_NLU['leggiRegionaliHQonLaw'].find()[45:46]:\n",
    "    print(doc)"
   ]
  },
  {
   "cell_type": "code",
   "execution_count": null,
   "id": "db1cb4a5-f172-44ac-b802-d1d7dfc90830",
   "metadata": {},
   "outputs": [],
   "source": []
  },
  {
   "cell_type": "code",
   "execution_count": null,
   "id": "70d234bc-c083-4bf8-8f7a-3253bed1a82c",
   "metadata": {},
   "outputs": [],
   "source": []
  },
  {
   "cell_type": "markdown",
   "id": "0c78bfcd-6bac-48b2-b2c6-8466231d50ca",
   "metadata": {},
   "source": [
    "### Test on general questions"
   ]
  },
  {
   "cell_type": "code",
   "execution_count": null,
   "id": "9641099f-ef6b-4d6c-9301-43368ee5ea06",
   "metadata": {},
   "outputs": [],
   "source": [
    "retriever = SAVIARetriever(vector_store_folder = \"../../../../../SAVIA_vector_stores\")"
   ]
  },
  {
   "cell_type": "code",
   "execution_count": null,
   "id": "db681e28-4e70-43ec-92a2-c528c18cd0d8",
   "metadata": {},
   "outputs": [],
   "source": [
    "ind = random.randint(0, len(general_questions_dataset) - 1)\n",
    "#ind = 3164\n",
    "print(ind)\n",
    "question = random.choice(general_questions_dataset[ind]['questions'])\n",
    "\n",
    "print(question)\n",
    "retrieved_item = retriever.create_prompt(question)\n",
    "print(\"num retrieved items\", len(retrieved_item))"
   ]
  },
  {
   "cell_type": "code",
   "execution_count": null,
   "id": "d865bc7e-84b0-4965-828e-206341ea1b0b",
   "metadata": {},
   "outputs": [],
   "source": [
    "#retrieved_item"
   ]
  },
  {
   "cell_type": "code",
   "execution_count": null,
   "id": "27f3668e-66a8-47db-ae5b-c074837de14c",
   "metadata": {},
   "outputs": [],
   "source": []
  },
  {
   "cell_type": "markdown",
   "id": "704802eb-3b28-4320-918b-df463be5bfd2",
   "metadata": {},
   "source": [
    "### Test on other questions"
   ]
  },
  {
   "cell_type": "code",
   "execution_count": null,
   "id": "96a7c1cb-e705-4784-9b50-10b01575097b",
   "metadata": {},
   "outputs": [],
   "source": [
    "retriever = SAVIARetriever(vector_store_folder = \"../../../../../SAVIA_vector_stores\")"
   ]
  },
  {
   "cell_type": "code",
   "execution_count": null,
   "id": "dcea5703-12e1-4fd9-8e73-f17c046ac5cd",
   "metadata": {},
   "outputs": [],
   "source": [
    "ind = random.randint(0, len(other_questions_dataset) - 1)\n",
    "#ind = 3\n",
    "ind = 25\n",
    "print(ind)\n",
    "question = random.choice(other_questions_dataset[ind]['questions'])\n",
    "#question = \"Per accedere ai contributi regionali previsti dalla legge sulla partecipazione (legge 15/2018) ci sono requisiti? Se sì, quali?\"\n",
    "print(question)\n",
    "retrieved_item = retriever.create_prompt(question)\n",
    "#print(retrieved_item[0]['legge'], \" --- \", retrieved_item[0]['stato'], retrieved_item[0]['_id'])\n",
    "#retrieved_item"
   ]
  },
  {
   "cell_type": "code",
   "execution_count": null,
   "id": "e8cbf45a-29b9-4bbc-b56b-be2a7445031d",
   "metadata": {},
   "outputs": [],
   "source": []
  },
  {
   "cell_type": "code",
   "execution_count": null,
   "id": "aafa6e1b-3ab3-46c4-8be9-1ad6cb99f36b",
   "metadata": {},
   "outputs": [],
   "source": []
  },
  {
   "cell_type": "code",
   "execution_count": null,
   "id": "0504850b-ce91-4857-ba8e-7c16a440fe60",
   "metadata": {},
   "outputs": [],
   "source": []
  },
  {
   "cell_type": "code",
   "execution_count": null,
   "id": "d5627643-6121-4571-b6d8-fd4ac53bf952",
   "metadata": {},
   "outputs": [],
   "source": [
    "retrieved_item"
   ]
  },
  {
   "cell_type": "code",
   "execution_count": null,
   "id": "7cf67e01-e85a-4fd5-b566-e0fa72350181",
   "metadata": {},
   "outputs": [],
   "source": []
  },
  {
   "cell_type": "code",
   "execution_count": null,
   "id": "9613cb3a-96b5-4f6c-a60f-176d826c3d86",
   "metadata": {},
   "outputs": [],
   "source": [
    "#res = coll_leggi_regionali.find_one({\"_id\": ObjectId('663f2cb8f8822e25d433e0e1')})"
   ]
  },
  {
   "cell_type": "code",
   "execution_count": null,
   "id": "8e8a3c6e-d86e-462c-8470-4329bd34084c",
   "metadata": {},
   "outputs": [],
   "source": [
    "res"
   ]
  },
  {
   "cell_type": "code",
   "execution_count": null,
   "id": "8e2f4117-346e-4f4b-9949-32213b8a7fb5",
   "metadata": {},
   "outputs": [],
   "source": []
  },
  {
   "cell_type": "code",
   "execution_count": null,
   "id": "4c4ea5b4-1968-4f62-b3b8-74b9fe3e66bf",
   "metadata": {},
   "outputs": [],
   "source": []
  },
  {
   "cell_type": "code",
   "execution_count": null,
   "id": "c8b5bd3c-15f2-4bbd-9221-d6ecb6b450ba",
   "metadata": {},
   "outputs": [],
   "source": [
    "question = \"Per accedere ai contributi regionali previsti dalla legge sulla partecipazione deliberativa ci sono requisiti? Se sì, quali?\""
   ]
  },
  {
   "cell_type": "code",
   "execution_count": null,
   "id": "393a278a-6819-49c3-a0e1-c6c4850090d0",
   "metadata": {},
   "outputs": [],
   "source": []
  },
  {
   "cell_type": "code",
   "execution_count": null,
   "id": "7e677794-4bc1-4b63-8724-e9e5ace1266e",
   "metadata": {},
   "outputs": [],
   "source": []
  },
  {
   "cell_type": "markdown",
   "id": "94b01444-e128-4224-ade7-d4d64663c578",
   "metadata": {},
   "source": [
    "### Test on synthetic questions"
   ]
  },
  {
   "cell_type": "code",
   "execution_count": null,
   "id": "8bb7340d-3ffb-4e7f-8f8c-10843d3e1293",
   "metadata": {},
   "outputs": [],
   "source": [
    "retriever = SAVIARetriever(vector_store_folder = \"../../../../../SAVIA_vector_stores\")"
   ]
  },
  {
   "cell_type": "code",
   "execution_count": null,
   "id": "326a6691-bb53-4cf1-adb4-0ed64fbd3580",
   "metadata": {},
   "outputs": [],
   "source": [
    "#coll_leggiRegionaliHQonArticles = db_SAVIA_NLU['leggiRegionaliHQonArticles']\n",
    "#leggiRegionaliHQonArticles = list(coll_leggiRegionaliHQonArticles.find())\n",
    "#_ids_laws = list(set([x['_id_law'] for x in leggiRegionaliHQonArticles]))\n",
    "\n",
    "#seleziona solo le domande per cui ci sono anche domande sugli articoli nel db SAVIA_NLU \n",
    "coll_leggiRegionaliHQonLaw = db_SAVIA_NLU['leggiRegionaliHQonLaw']\n",
    "leggiRegionaliHQonLaw = list(coll_leggiRegionaliHQonLaw.find())\n",
    "#leggiRegionaliHQonLaw = [x for x in list(coll_leggiRegionaliHQonLaw.find()) if x['_id_law'] in _ids_laws]\n",
    "#len(leggiRegionaliHQonLaw)"
   ]
  },
  {
   "cell_type": "code",
   "execution_count": null,
   "id": "a5b7a269-3acc-4162-aabc-54422a0ff328",
   "metadata": {},
   "outputs": [],
   "source": [
    "ind = random.randint(0, len(leggiRegionaliHQonLaw) - 1)\n",
    "#ind = 9284\n",
    "print(ind)\n",
    "question = leggiRegionaliHQonLaw[ind]['chunk'].strip()\n",
    "gt = coll_leggi_regionali.find_one({\"_id\": leggiRegionaliHQonLaw[ind]['_id_law']})['legge']\n",
    "\n",
    "print(question)\n",
    "retrieved_item = retriever.create_prompt(question)\n",
    "print(\"GT:\", gt)\n",
    "#print(\"PRED:\", retrieved_item[0]['legge'])#, \" --- \", retrieved_item[0]['stato'])#, retrieved_item[0]['_id'])\n",
    "#if gt == retrieved_item[0]['legge']:\n",
    "#    print(\"OK\")\n",
    "\n",
    "#retrieved_item"
   ]
  },
  {
   "cell_type": "code",
   "execution_count": null,
   "id": "3a1cd2f4-042c-46c9-a9fa-0f3422e3d820",
   "metadata": {},
   "outputs": [],
   "source": [
    "retrieved_item"
   ]
  },
  {
   "cell_type": "code",
   "execution_count": null,
   "id": "91a1a3ad-d492-4067-be70-db5a2bbe0992",
   "metadata": {},
   "outputs": [],
   "source": []
  },
  {
   "cell_type": "code",
   "execution_count": null,
   "id": "fceb8ff8-a8a3-455b-b845-d0d74c50e885",
   "metadata": {},
   "outputs": [],
   "source": []
  },
  {
   "cell_type": "code",
   "execution_count": null,
   "id": "0b78060d-5934-448a-b6c0-00cf8ee1d14d",
   "metadata": {},
   "outputs": [],
   "source": []
  },
  {
   "cell_type": "code",
   "execution_count": null,
   "id": "ef81ca04-2f1d-4de5-ad80-924d1554b3bb",
   "metadata": {},
   "outputs": [],
   "source": [
    "out = coll_leggi_regionali.find_one({\"_id\": ObjectId('663f1c7ae9c699e78e2b8a74')})"
   ]
  },
  {
   "cell_type": "code",
   "execution_count": null,
   "id": "4148ae7d-cce7-466d-b50c-87deb21a6a2c",
   "metadata": {},
   "outputs": [],
   "source": [
    "out['articoli']['Art. 21']"
   ]
  },
  {
   "cell_type": "code",
   "execution_count": null,
   "id": "ca61374b-174c-4161-9d1b-0079fbc1a411",
   "metadata": {},
   "outputs": [],
   "source": [
    "for ind, doc in enumerate(coll_leggi_regionali.find()):\n",
    "    if doc['legge'] == \"LEGGE REGIONALE 22 ottobre 2018, n. 15\":\n",
    "        print(ind)"
   ]
  },
  {
   "cell_type": "code",
   "execution_count": null,
   "id": "2909bae2-2ff5-45ca-8fc2-8b95bdf8cca2",
   "metadata": {},
   "outputs": [],
   "source": []
  },
  {
   "cell_type": "code",
   "execution_count": null,
   "id": "3b4759b2-a407-455a-9f78-299427c797ea",
   "metadata": {},
   "outputs": [],
   "source": []
  },
  {
   "cell_type": "code",
   "execution_count": null,
   "id": "57ee5d36-2970-44cc-9e1d-d33e4d549a6d",
   "metadata": {},
   "outputs": [],
   "source": []
  },
  {
   "cell_type": "code",
   "execution_count": null,
   "id": "f364a972-05aa-4bb6-a6fb-2c92ffd14fde",
   "metadata": {},
   "outputs": [],
   "source": []
  },
  {
   "cell_type": "markdown",
   "id": "53c174e2-cff1-4dcb-988f-32e51ca2c575",
   "metadata": {},
   "source": [
    "### Test on generated questions"
   ]
  },
  {
   "cell_type": "code",
   "execution_count": null,
   "id": "7f51f71e-b4ae-4751-9c3c-2e35af214804",
   "metadata": {},
   "outputs": [],
   "source": [
    "retriever = SAVIARetriever(vector_store_folder = \"../../../../../SAVIA_vector_stores\")"
   ]
  },
  {
   "cell_type": "code",
   "execution_count": null,
   "id": "b76d2984-fa7b-40c3-929d-cf55f8b1ee2f",
   "metadata": {},
   "outputs": [],
   "source": [
    "index_name = \"leggiRegionaliQuestions\"\n",
    "coll_leggi_regionali_questions = db_SAVIA_NLU[index_name]\n",
    "\n",
    "vector_store_folder = \"../../../../../SAVIA_vector_stores\"\n",
    "\n",
    "leggi_regionali_questions_index = faiss.read_index(os.path.join(vector_store_folder , index_name + \".faiss\"))\n",
    "leggi_regionali_questions = list(coll_leggi_regionali_questions.find())\n",
    "print(len(leggi_regionali_questions))"
   ]
  },
  {
   "cell_type": "code",
   "execution_count": null,
   "id": "3be50796-84f8-4477-aec8-e6fc69f16db7",
   "metadata": {},
   "outputs": [],
   "source": [
    "ind = random.randint(0, len(leggi_regionali_questions) - 1)\n",
    "#ind = 1358\n",
    "print(ind)\n",
    "leggi_regionali_question = leggi_regionali_questions[ind]\n",
    "#leggi_regionali_question = leggi_regionali_questions[0]\n",
    "\n",
    "question = leggi_regionali_question['chunk'].strip().lower()\n",
    "\n",
    "legge = coll_leggi_regionali.find_one({\"_id\": leggi_regionali_question['_id_legge']})\n",
    "\n",
    "print(leggi_regionali_question)\n",
    "print()\n",
    "print(\"Legge:\", legge['legge'])\n",
    "print(\"Titolo:\", legge['titolo'])\n",
    "\n",
    "retrieved_item = retriever.create_prompt(question)\n",
    "#print(len(retrieved_item))\n",
    "retrieved_item\n"
   ]
  },
  {
   "cell_type": "markdown",
   "id": "41daa6a0-0eb1-4f5e-828f-cdba5485448b",
   "metadata": {},
   "source": [
    "### Test on custom questions"
   ]
  },
  {
   "cell_type": "code",
   "execution_count": null,
   "id": "19134bba-c73d-4e53-a675-484334da30a2",
   "metadata": {},
   "outputs": [],
   "source": [
    "retriever = SAVIARetriever(vector_store_folder = \"../../../../../SAVIA_vector_stores\")"
   ]
  },
  {
   "cell_type": "code",
   "execution_count": null,
   "id": "f74b342a-dd3a-4327-afad-3da5dab2ce10",
   "metadata": {},
   "outputs": [],
   "source": [
    "question = \"Che legge definisce le norme per la pubblicazione degli atti amministrativi nel bollettino ufficiale regionale?\"\n",
    "retrieved_item = retriever.create_prompt(question)\n",
    "#print(len(retrieved_item))\n",
    "retrieved_item"
   ]
  },
  {
   "cell_type": "code",
   "execution_count": null,
   "id": "7b8131c0-baa5-412a-82af-84a4f8a7f3de",
   "metadata": {},
   "outputs": [],
   "source": [
    "retrieved_item"
   ]
  },
  {
   "cell_type": "code",
   "execution_count": null,
   "id": "574bbdb3-9782-4f6a-8f9d-8a81a58e13dd",
   "metadata": {},
   "outputs": [],
   "source": []
  },
  {
   "cell_type": "code",
   "execution_count": null,
   "id": "931543e5-d0d4-4fd0-97a6-dab25e1730ce",
   "metadata": {},
   "outputs": [],
   "source": []
  },
  {
   "cell_type": "code",
   "execution_count": null,
   "id": "00b7dc25-02cc-4ede-ac74-9cc815c57c0a",
   "metadata": {},
   "outputs": [],
   "source": [
    "leggi_regionali_questions[0]"
   ]
  },
  {
   "cell_type": "code",
   "execution_count": null,
   "id": "9b25b8e3-1aec-4524-9dbc-5babb1e518f9",
   "metadata": {},
   "outputs": [],
   "source": []
  },
  {
   "cell_type": "code",
   "execution_count": null,
   "id": "b7b62784-15f3-4dc7-8d3f-1d71c7f22348",
   "metadata": {},
   "outputs": [],
   "source": []
  },
  {
   "cell_type": "code",
   "execution_count": null,
   "id": "125ec334-4295-4d74-828c-798b99d48c78",
   "metadata": {},
   "outputs": [],
   "source": []
  },
  {
   "cell_type": "code",
   "execution_count": null,
   "id": "b76374a9-4bd7-4145-bdd1-acbaee400739",
   "metadata": {},
   "outputs": [],
   "source": [
    "len(retrieved_item)"
   ]
  },
  {
   "cell_type": "code",
   "execution_count": null,
   "id": "35296f29-7ed5-44c8-b9fb-5e0a01ad7e44",
   "metadata": {},
   "outputs": [],
   "source": [
    "related_d"
   ]
  },
  {
   "cell_type": "code",
   "execution_count": null,
   "id": "97a9bf91-66cb-4ca6-bacf-f64b119756dd",
   "metadata": {},
   "outputs": [],
   "source": [
    "sorted_item_ids = "
   ]
  },
  {
   "cell_type": "code",
   "execution_count": null,
   "id": "92868169-6b5c-4736-8beb-8107db9dd5ce",
   "metadata": {},
   "outputs": [],
   "source": []
  },
  {
   "cell_type": "code",
   "execution_count": null,
   "id": "92902b9d-6f5a-41ba-a9be-aa2d1ed73ec6",
   "metadata": {},
   "outputs": [],
   "source": []
  },
  {
   "cell_type": "code",
   "execution_count": null,
   "id": "bacff326-ea89-4fd0-890a-c497f4d89725",
   "metadata": {},
   "outputs": [],
   "source": [
    "retrieved_item = retriever.create_prompt(question)\n",
    "print(len(retrieved_item))\n",
    "retrieved_item"
   ]
  },
  {
   "cell_type": "code",
   "execution_count": null,
   "id": "19e65b52-22cf-4955-8eb8-df7516873ebe",
   "metadata": {},
   "outputs": [],
   "source": []
  },
  {
   "cell_type": "code",
   "execution_count": null,
   "id": "24e54057-bed7-498d-997c-f74cd08b061c",
   "metadata": {},
   "outputs": [],
   "source": [
    "retrieved_item"
   ]
  },
  {
   "cell_type": "code",
   "execution_count": null,
   "id": "5a1832a6-4f39-4ecb-a0aa-b0b8056bea9d",
   "metadata": {},
   "outputs": [],
   "source": []
  },
  {
   "cell_type": "code",
   "execution_count": null,
   "id": "d437e68a-3d06-4b35-b818-e07a074eab8f",
   "metadata": {},
   "outputs": [],
   "source": [
    "se sono 2 uguali: setta anno\n",
    "se è solo 1: guarda se l'anno è diverso dall'anno della legge"
   ]
  },
  {
   "cell_type": "code",
   "execution_count": null,
   "id": "97fcf9cf-2f91-4612-ac7f-3fd009d09676",
   "metadata": {},
   "outputs": [],
   "source": [
    "## Massimo 20 atti: in ordine cronologico discendente prima di "
   ]
  },
  {
   "cell_type": "code",
   "execution_count": null,
   "id": "bad48d18-7d63-4c08-8342-bcd41d3e11bc",
   "metadata": {},
   "outputs": [],
   "source": []
  },
  {
   "cell_type": "code",
   "execution_count": null,
   "id": "e7918801-5e10-466c-84c8-1deceb76d244",
   "metadata": {},
   "outputs": [],
   "source": []
  },
  {
   "cell_type": "code",
   "execution_count": null,
   "id": "f174298a-d1bd-40c2-ac4b-6d0489f68f3d",
   "metadata": {},
   "outputs": [],
   "source": []
  },
  {
   "cell_type": "code",
   "execution_count": null,
   "id": "d5019875-0c33-4d01-9aef-308377fc5e1d",
   "metadata": {},
   "outputs": [],
   "source": [
    "item = 'LEGGE REGIONALE 04 marzo 2019, n. 2'\n",
    "\n",
    "question_embeddings = embedding_model.encode([item.lower()])\n",
    "faiss.normalize_L2(question_embeddings)\n",
    "\n",
    "similarity, item_ids = index.search(question_embeddings, 1)\n",
    "similarity = similarity[0][0]\n",
    "item_ids = item_ids[0][0]\n",
    "print(similarity)"
   ]
  },
  {
   "cell_type": "code",
   "execution_count": null,
   "id": "44db73be-1be2-49ed-8206-92ebe292d603",
   "metadata": {},
   "outputs": [],
   "source": [
    "chunk = 'quali analisi, relazioni e schede tecniche sono state sviluppate riguardo alla \"legge regionale 04 marzo 2019, n. 2\" sul tema dell\\'esercizio dell\\'apicoltura?'\n",
    "index = faiss.IndexIDMap2(faiss.IndexFlatIP(embedding_dim))\n",
    "embedding = embedding_model.encode([chunk.lower()])\n",
    "faiss.normalize_L2(embedding)\n",
    "index.add_with_ids(embedding, np.array([0]))"
   ]
  },
  {
   "cell_type": "code",
   "execution_count": null,
   "id": "8013eea3-1a60-44f9-ba42-ff9ae77f632f",
   "metadata": {},
   "outputs": [],
   "source": [
    "print(\"num chunks:\", index.ntotal)"
   ]
  },
  {
   "cell_type": "code",
   "execution_count": null,
   "id": "92aae938-2075-433f-af2c-51b59cb58f6a",
   "metadata": {},
   "outputs": [],
   "source": [
    "len(chunks_list)"
   ]
  },
  {
   "cell_type": "code",
   "execution_count": null,
   "id": "c0102871-d1b4-4fe1-b30a-14c03763b73d",
   "metadata": {},
   "outputs": [],
   "source": []
  },
  {
   "cell_type": "code",
   "execution_count": null,
   "id": "f7e8609c-9fcc-4194-be86-177898df9089",
   "metadata": {},
   "outputs": [],
   "source": [
    "#index = faiss.IndexIDMap2(faiss.IndexFlatIP(embedding_dim))\n",
    "#embedding = embedding_model.encode([chunk.lower()])\n",
    "#faiss.normalize_L2(embedding)\n",
    "#index.add_with_ids(embedding, np.array([0]))"
   ]
  },
  {
   "cell_type": "code",
   "execution_count": null,
   "id": "9800a25d-6eb5-45e4-80b7-8b1a15a0ce5c",
   "metadata": {},
   "outputs": [],
   "source": []
  },
  {
   "cell_type": "code",
   "execution_count": null,
   "id": "b5539ef6-122b-41cd-908c-8545ddbed20d",
   "metadata": {},
   "outputs": [],
   "source": []
  },
  {
   "cell_type": "code",
   "execution_count": null,
   "id": "ad5f45f9-e0b6-4b81-9f4f-188bfc6f6885",
   "metadata": {},
   "outputs": [],
   "source": []
  },
  {
   "cell_type": "code",
   "execution_count": null,
   "id": "91874a9b-90e3-4750-8db9-ab00ece5e45d",
   "metadata": {},
   "outputs": [],
   "source": []
  },
  {
   "cell_type": "markdown",
   "id": "5d52e973-3468-4b5c-a29c-0d926eba48ff",
   "metadata": {},
   "source": [
    "### Load FAISS indices"
   ]
  },
  {
   "cell_type": "code",
   "execution_count": null,
   "id": "c6ce06ba-6710-4314-88db-88197d01a923",
   "metadata": {},
   "outputs": [],
   "source": [
    "vector_store_folder = \"../../../../SAVIA_vector_stores\"\n",
    "index_name = \"leggiRegionaliKeywords\"\n",
    "coll_leggi_regionali_keywords = db[index_name]"
   ]
  },
  {
   "cell_type": "code",
   "execution_count": null,
   "id": "e84c1444-60ef-4d72-9b30-a8fd194ea6ff",
   "metadata": {},
   "outputs": [],
   "source": [
    "leggi_regionali_keywords_index = faiss.read_index(os.path.join(vector_store_folder, \"leggiRegionaliKeywords.faiss\"))"
   ]
  },
  {
   "cell_type": "markdown",
   "id": "cc45da53-a8bb-4e98-a620-f0b3c20cd16c",
   "metadata": {},
   "source": [
    "### Merging two indices"
   ]
  },
  {
   "cell_type": "code",
   "execution_count": null,
   "id": "cf4b7830-a3e5-4510-b107-3c4d133e28cb",
   "metadata": {},
   "outputs": [],
   "source": [
    "# Assuming db1 and db2 are your two FAISS vectorstores\n",
    "#index1 = db1.faiss_index\n",
    "#index2 = db2.faiss_index\n",
    "\n",
    "# Create a new FAISS index with the same dimension as the original indexes\n",
    "#new_index = FAISS.create_faiss_index(index1.d)\n",
    "\n",
    "# Add vectors from both indexes to the new index\n",
    "#new_index.add(np.vstack((index1.reconstruct(i) for i in range(index1.ntotal))))\n",
    "#new_index.add(np.vstack((index2.reconstruct(i) for i in range(index2.ntotal))))\n",
    "\n",
    "# Create a new FAISS vectorstore with the merged index\n",
    "#new_db = FAISS(new_index, db1.embeddings)"
   ]
  },
  {
   "cell_type": "markdown",
   "id": "2fac1914-6992-46c5-ae9c-2ce4119c6c05",
   "metadata": {},
   "source": [
    "### Retrieve content with BM25"
   ]
  },
  {
   "cell_type": "code",
   "execution_count": null,
   "id": "e712b5d2-d46a-472e-81fc-46543f443d78",
   "metadata": {},
   "outputs": [],
   "source": [
    "list_all_laws = []\n",
    "corpus = []\n",
    "\n",
    "for ind, doc in enumerate(coll_leggi_regionali.find()[0:]):\n",
    "    titolo_orig = doc['titolo']\n",
    "#    titolo = titolo_orig\n",
    "    titolo = clean_title(titolo_orig).lower()\n",
    "    out_dict = {\"titolo\": titolo, \"legge\": doc[\"legge\"], \n",
    "                          \"testo\": doc['testo'].replace(\"\\n\", \" \").lower(),#, \"numero\": doc[\"numero\"],\n",
    "                        \"legge\": doc['legge']}#, \"numeroAnno\": doc[\"numeroAnno\"]}\n",
    "\n",
    "    if 'articoli' in doc.keys():\n",
    "        articoli = list(doc['articoli'].values())\n",
    "        articoli_str = \" \".join([x for x in articoli[0:2]]).lower()\n",
    "        \n",
    "        out_dict[\"articoli\"] = articoli_str\n",
    "\n",
    "    list_all_laws.append(out_dict)\n",
    "\n",
    "    corpus.append(\" \".join(list(out_dict.values())))"
   ]
  },
  {
   "cell_type": "code",
   "execution_count": null,
   "id": "6362d912-bf8a-4fde-9e08-c7b389eba7e0",
   "metadata": {},
   "outputs": [],
   "source": [
    "bm25_retriever = BM25Retriever(corpus, top_n = 30, threshold = None)"
   ]
  },
  {
   "cell_type": "code",
   "execution_count": null,
   "id": "96cf316c-b759-4d8b-81e5-df224f088855",
   "metadata": {},
   "outputs": [],
   "source": [
    "ind = random.randint(0, len(IB_dataset_train) - 1)\n",
    "#ind = 825\n",
    "print(ind)\n",
    "question = IB_dataset_train[ind]['question']\n",
    "context = IB_dataset_train[ind]['context']\n",
    "gt = context[0]['legge'].upper().replace(\" , \", \", \")\n",
    "\n",
    "print(question)"
   ]
  },
  {
   "cell_type": "code",
   "execution_count": null,
   "id": "0bc11a0f-fc54-471a-90e9-ed9c35da26f5",
   "metadata": {},
   "outputs": [],
   "source": [
    "top_n_inds, top_n_sim = bm25_retriever.retrieve(question)\n",
    "\n",
    "for ind_sim, ind in enumerate(top_n_inds):\n",
    "    pred = list_all_laws[ind]['legge'].upper().replace(\" , \", \", \")\n",
    "#    print(str(ind_sim) + \" - score \" + str(top_n_sim[ind_sim])) \n",
    "\n",
    "#    print(\"PRED: {}\".format(pred), \"  ----   GT: {}\".format(gt))\n",
    "#    print(\"titolo:\", list_all_laws[ind]['titolo'].upper())\n",
    "\n",
    "    if pred == gt:\n",
    "        print(\"True document\")\n",
    "        print(str(ind_sim) + \" - score \" + str(top_n_sim[ind_sim])) \n",
    "\n",
    "        print(\"PRED: {}\".format(pred), \"  ----   GT: {}\".format(gt))\n",
    "        print(\"titolo:\", list_all_laws[ind]['titolo'].upper())\n",
    "#    print(\"--------------\")"
   ]
  },
  {
   "cell_type": "code",
   "execution_count": null,
   "id": "43e29019-da5b-41fd-baef-974c25d0d2b6",
   "metadata": {},
   "outputs": [],
   "source": [
    "#top_m = 5\n",
    "#question_embedding = embedding_model.encode([question.lower()])\n",
    "#faiss.normalize_L2(question_embedding)\n",
    "\n",
    "#similarity, item_ids = leggi_regionali_keywords_index.search(question_embedding, top_m)\n",
    "#similarity = similarity[0]\n",
    "#item_ids = item_ids[0]\n",
    "\n",
    "#for ind_item, item_id in enumerate(item_ids[0:]):\n",
    "#    print(item_id)\n",
    "#    print(\"PRED ANSWER:\", list_texts[item_id], \" - sim:\", round(similarity[ind_item], 3))\n",
    "\n",
    "#    res_chunk = coll_leggi_regionali_keywords.find_one({\"_id_faiss\": int(item_id)})\n",
    "#    _id_legge = res_chunk['_id_legge']\n",
    "#    res_legge = coll_leggi_regionali.find_one({\"_id\": _id_legge})\n",
    "#    legge = res_legge['legge']\n",
    "#    print(\"legge:\", legge, \"- sim:\", round(similarity[ind_item], 3))"
   ]
  },
  {
   "cell_type": "code",
   "execution_count": null,
   "id": "57677c53-e998-4047-b282-62f6feed7310",
   "metadata": {},
   "outputs": [],
   "source": []
  },
  {
   "cell_type": "code",
   "execution_count": null,
   "id": "33b7e0a3-5ca5-4e3b-a47f-cd39427e1459",
   "metadata": {},
   "outputs": [],
   "source": []
  },
  {
   "cell_type": "code",
   "execution_count": null,
   "id": "5fdb05c5-32ee-4dd2-b4b8-d6aef1e01de8",
   "metadata": {},
   "outputs": [],
   "source": []
  },
  {
   "cell_type": "code",
   "execution_count": null,
   "id": "77caaa67-199f-4187-b674-8297621cfceb",
   "metadata": {},
   "outputs": [],
   "source": [
    "retrieved_item"
   ]
  },
  {
   "cell_type": "code",
   "execution_count": null,
   "id": "9f72f8ba-671e-4cdf-8901-6d0bed94ab4e",
   "metadata": {},
   "outputs": [],
   "source": [
    "chunk = 'i atti della legge regionale n'\n",
    "\n",
    "question_embeddings = embedding_model.encode([chunk.lower()])\n",
    "faiss.normalize_L2(question_embeddings)"
   ]
  },
  {
   "cell_type": "code",
   "execution_count": null,
   "id": "b7fe16e9-eb59-4aab-8a9e-ec360937aad7",
   "metadata": {},
   "outputs": [],
   "source": [
    "similarity, item_ids = retriever.leggi_regionali_allegati_index.search(question_embeddings, 1)\n",
    "#similarity = similarity[0]\n",
    "#item_ids = item_ids[0]\n",
    "print(similarity, item_ids)"
   ]
  },
  {
   "cell_type": "code",
   "execution_count": null,
   "id": "5f2bdf6f-0809-4455-8f6b-b1eec628f608",
   "metadata": {},
   "outputs": [],
   "source": []
  },
  {
   "cell_type": "code",
   "execution_count": null,
   "id": "c3c97262-1c2e-4b69-88ca-7d53cb14b2b6",
   "metadata": {},
   "outputs": [],
   "source": [
    "question_embeddings.shape"
   ]
  },
  {
   "cell_type": "code",
   "execution_count": null,
   "id": "5a417b35-bac8-4ee9-b4e5-fa6f7d471fdd",
   "metadata": {},
   "outputs": [],
   "source": []
  },
  {
   "cell_type": "code",
   "execution_count": null,
   "id": "b663a07f-1b26-4f90-a733-39b838ae1a97",
   "metadata": {},
   "outputs": [],
   "source": []
  },
  {
   "cell_type": "code",
   "execution_count": null,
   "id": "9f54a8a0-0e1a-4139-969d-5c7b14433409",
   "metadata": {},
   "outputs": [],
   "source": []
  },
  {
   "cell_type": "code",
   "execution_count": null,
   "id": "e5092aea-b25d-423d-a38c-44714414537b",
   "metadata": {},
   "outputs": [],
   "source": [
    "index = faiss.IndexIDMap2(faiss.IndexFlatIP(embedding_dim))\n",
    "embedding = embedding_model.encode([chunk.lower()])\n",
    "faiss.normalize_L2(embedding)\n",
    "index.add_with_ids(embedding, np.array([0]))"
   ]
  },
  {
   "cell_type": "code",
   "execution_count": null,
   "id": "dba2f4a1-656d-412d-a56b-6960d832a45c",
   "metadata": {},
   "outputs": [],
   "source": [
    "question_embeddings = embedding_model.encode([\"provvedimenti attuativi\".lower()])\n",
    "faiss.normalize_L2(question_embeddings)\n",
    "\n",
    "similarity, item_ids = index.search(question_embeddings, 1)\n",
    "similarity = similarity[0][0]\n",
    "item_ids = item_ids[0][0]\n",
    "print(similarity)"
   ]
  },
  {
   "cell_type": "code",
   "execution_count": null,
   "id": "3c7a1351-318e-4ea5-9b1b-db5aa48d2edd",
   "metadata": {},
   "outputs": [],
   "source": [
    "question"
   ]
  },
  {
   "cell_type": "code",
   "execution_count": null,
   "id": "9da33749-2595-4807-a5b4-b7eca1701834",
   "metadata": {},
   "outputs": [],
   "source": []
  },
  {
   "cell_type": "code",
   "execution_count": null,
   "id": "967848e1-c01f-466a-a041-c257cb9246cc",
   "metadata": {},
   "outputs": [],
   "source": []
  },
  {
   "cell_type": "code",
   "execution_count": null,
   "id": "2d42ef91-c598-444b-b13d-d2bfbae22905",
   "metadata": {},
   "outputs": [],
   "source": [
    "good = 0\n",
    "bad = 0\n",
    "\n",
    "for ind in range(0, len(IB_dataset_train)):\n",
    "#for ind in range(0, 1000):\n",
    "    question = IB_dataset_train[ind]['question']\n",
    "    context = IB_dataset_train[ind]['context']\n",
    "    gt = context[0]['legge'].upper().replace(\" , \", \", \")\n",
    "\n",
    "    retrieved_item = retriever.retrieve(question)\n",
    "    #print(retrieved_item)\n",
    "    \n",
    "    if retrieved_item.upper() != gt:\n",
    "#        print(\"wrong\", retrieved_item, \"  -----   \", gt)\n",
    "        bad += 1\n",
    "    else:\n",
    "#        print(\"ok\")\n",
    "        good += 1\n",
    "\n",
    "print(\"accuracy:\", good/(good+bad))"
   ]
  },
  {
   "cell_type": "code",
   "execution_count": null,
   "id": "af9c7d0d-18f9-4305-b810-0856569212df",
   "metadata": {},
   "outputs": [],
   "source": [
    "#results"
   ]
  },
  {
   "cell_type": "code",
   "execution_count": null,
   "id": "c68503a4-84c7-48c0-8620-630ce57b9278",
   "metadata": {},
   "outputs": [],
   "source": []
  },
  {
   "cell_type": "code",
   "execution_count": null,
   "id": "59db9e0b-9778-4c0a-afa7-317b78deb76c",
   "metadata": {},
   "outputs": [],
   "source": []
  },
  {
   "cell_type": "code",
   "execution_count": null,
   "id": "8ed0b1bd-b273-4454-ae96-db25159bccd0",
   "metadata": {},
   "outputs": [],
   "source": [
    "retrieved_item = retriever.retrieve(question)\n",
    "retrieved_item"
   ]
  },
  {
   "cell_type": "code",
   "execution_count": null,
   "id": "64889a01-63f1-4e94-86f9-ac4d2c5391a7",
   "metadata": {},
   "outputs": [],
   "source": []
  },
  {
   "cell_type": "code",
   "execution_count": null,
   "id": "c0e9daf4-75b7-43fc-aa52-ce8b98a51b8a",
   "metadata": {},
   "outputs": [],
   "source": []
  },
  {
   "cell_type": "code",
   "execution_count": null,
   "id": "bac12e8f-f4eb-4557-bde5-1fa026a6ed50",
   "metadata": {},
   "outputs": [],
   "source": [
    "chunk = \"RETE ESCURSIONISTICA DELL'EMILIA-ROMAGNA E VALORIZZAZIONE DELLE ATTIVITÀ ESCURSIONISTICHE\""
   ]
  },
  {
   "cell_type": "code",
   "execution_count": null,
   "id": "c09a4a78-96ef-4d1c-a380-728a492b2fe2",
   "metadata": {},
   "outputs": [],
   "source": [
    "index = faiss.IndexIDMap2(faiss.IndexFlatIP(embedding_dim))\n",
    "embedding = embedding_model.encode([chunk.lower()])\n",
    "faiss.normalize_L2(embedding)\n",
    "index.add_with_ids(embedding, np.array([0]))"
   ]
  },
  {
   "cell_type": "code",
   "execution_count": null,
   "id": "7a6c666a-ed8f-4dd4-a6c3-abc868c61207",
   "metadata": {},
   "outputs": [],
   "source": [
    "question_embeddings = embedding_model.encode([question.lower()])\n",
    "faiss.normalize_L2(question_embeddings)\n",
    "\n",
    "similarity, item_ids = index.search(question_embeddings, 1)\n",
    "similarity = similarity[0][0]\n",
    "item_ids = item_ids[0][0]\n",
    "print(similarity)"
   ]
  },
  {
   "cell_type": "code",
   "execution_count": null,
   "id": "8d41bf30-55bd-480e-9706-0a19d7bb9f36",
   "metadata": {},
   "outputs": [],
   "source": []
  },
  {
   "cell_type": "code",
   "execution_count": null,
   "id": "7ee45086-2b74-4cbd-b140-230eccb4afa6",
   "metadata": {},
   "outputs": [],
   "source": []
  },
  {
   "cell_type": "code",
   "execution_count": null,
   "id": "f5925f57-cb90-4dfd-87ee-e65879e053ae",
   "metadata": {},
   "outputs": [],
   "source": []
  },
  {
   "cell_type": "code",
   "execution_count": null,
   "id": "8d61e997-8f10-44b6-9768-5eda94193e50",
   "metadata": {},
   "outputs": [],
   "source": [
    "res = coll_leggi_regionali.find_one({\"_id\": retriever._id_leggi[579]})\n",
    "res['legge']"
   ]
  },
  {
   "cell_type": "code",
   "execution_count": null,
   "id": "ea6bd10a-0702-435e-b672-c307736364aa",
   "metadata": {},
   "outputs": [],
   "source": [
    "list(res['testo_orig']['articoli'].values())[0:2]"
   ]
  },
  {
   "cell_type": "code",
   "execution_count": null,
   "id": "f3b53624-a288-4f2f-88ac-a5e43b315ef8",
   "metadata": {},
   "outputs": [],
   "source": []
  },
  {
   "cell_type": "code",
   "execution_count": null,
   "id": "1a6ec8b5-c3fe-42f4-ba17-5d85c66c3c7d",
   "metadata": {},
   "outputs": [],
   "source": []
  },
  {
   "cell_type": "code",
   "execution_count": null,
   "id": "aac2e687-fc70-4401-b00c-1b82b031675e",
   "metadata": {},
   "outputs": [],
   "source": []
  },
  {
   "cell_type": "code",
   "execution_count": null,
   "id": "81d0be75-736a-441a-9280-791e8317397b",
   "metadata": {},
   "outputs": [],
   "source": []
  },
  {
   "cell_type": "code",
   "execution_count": null,
   "id": "8053f3b7-93aa-4ea5-94ee-24d588687c0a",
   "metadata": {},
   "outputs": [],
   "source": [
    "retriever._id_leggi[579]"
   ]
  },
  {
   "cell_type": "code",
   "execution_count": null,
   "id": "db8f2f21-a53c-4846-a651-6e09b5f2bf44",
   "metadata": {},
   "outputs": [],
   "source": [
    "res = coll_leggi_regionali.find_one({\"_id\": retriever._id_leggi[579]})\n",
    "res['legge']"
   ]
  },
  {
   "cell_type": "code",
   "execution_count": null,
   "id": "ddff0738-dd9a-4dc2-867c-a4195a01f732",
   "metadata": {},
   "outputs": [],
   "source": []
  },
  {
   "cell_type": "code",
   "execution_count": null,
   "id": "08ec4d23-639f-4a16-8be6-9e25da96c9fb",
   "metadata": {},
   "outputs": [],
   "source": [
    "top_m = 1\n",
    "question_embedding = embedding_model.encode(texts)\n",
    "faiss.normalize_L2(question_embedding)\n",
    "\n",
    "similarity, item_ids = leggi_regionali_keywords_index.search(question_embedding, top_m)\n",
    "similarity = similarity[:, 0]\n",
    "item_ids = item_ids[:, 0]\n",
    "\n",
    "max_similarity_id = np.argmax(similarity)\n",
    "best_similarity = similarity[max_similarity_id]\n",
    "best_item_id = item_ids[max_similarity_id]\n",
    "\n",
    "\n",
    "    res_chunk = coll_leggi_regionali_keywords.find_one({\"_id_faiss\": int(item_id)})\n",
    "    _id_legge = res_chunk['_id_legge']\n",
    "    res_legge = coll_leggi_regionali.find_one({\"_id\": _id_legge})\n",
    "    legge = res_legge['legge']\n",
    "    print(\"legge:\", legge, \"- sim:\", round(best_similarity[ind_item], 3))\n",
    "\n",
    "for ind_item, item_id in enumerate(best_item_id[0:]):\n",
    "#    print(item_id)\n",
    "#    print(\"PRED ANSWER:\", list_texts[item_id], \" - sim:\", round(similarity[ind_item], 3))\n",
    "\n",
    "    res_chunk = coll_leggi_regionali_keywords.find_one({\"_id_faiss\": int(item_id)})\n",
    "    _id_legge = res_chunk['_id_legge']\n",
    "    res_legge = coll_leggi_regionali.find_one({\"_id\": _id_legge})\n",
    "    legge = res_legge['legge']\n",
    "    print(\"legge:\", legge, \"- sim:\", round(best_similarity[ind_item], 3))"
   ]
  },
  {
   "cell_type": "code",
   "execution_count": null,
   "id": "30d96b28-f18a-45c9-9667-0f80bae4d54a",
   "metadata": {},
   "outputs": [],
   "source": [
    "best_item_id"
   ]
  },
  {
   "cell_type": "code",
   "execution_count": null,
   "id": "194c163e-b942-4640-a8e7-0666eed31c15",
   "metadata": {},
   "outputs": [],
   "source": [
    "item_ids"
   ]
  },
  {
   "cell_type": "code",
   "execution_count": null,
   "id": "579bc3af-0fc0-4f22-9e03-cae5e007af33",
   "metadata": {},
   "outputs": [],
   "source": [
    "np.argmax(similarity)"
   ]
  },
  {
   "cell_type": "code",
   "execution_count": null,
   "id": "2f7d0914-4a02-4452-b5c6-40fc93328ee2",
   "metadata": {},
   "outputs": [],
   "source": []
  },
  {
   "cell_type": "code",
   "execution_count": null,
   "id": "4485bda1-777c-476d-a1d1-2d4b41431b9f",
   "metadata": {},
   "outputs": [],
   "source": []
  },
  {
   "cell_type": "markdown",
   "id": "be391789-c41e-4211-82a3-816cc0d20a57",
   "metadata": {},
   "source": [
    "### Test search over a subset"
   ]
  },
  {
   "cell_type": "code",
   "execution_count": null,
   "id": "12f0ae6f-328d-4c3d-aa58-bf439ef5d5fe",
   "metadata": {},
   "outputs": [],
   "source": [
    "import numpy as np\n",
    "import faiss\n",
    "\n",
    "# Set random seed for reproducibility\n",
    "np.random.seed(0)\n",
    "\n",
    "# Create a set of 5 small binary vectors\n",
    "vectors = np.array([[1., 0., 1.],\n",
    "                    [0., 1., 0.],\n",
    "                    [1., 1., 0.],\n",
    "                    [0., 0., 1.],\n",
    "                    [1., 0., 0.]]).astype(np.float32)\n",
    "\n",
    "# Initialize an index with the Hamming distance measure\n",
    "index = faiss.IndexFlatL2(vectors.shape[1])\n",
    "\n",
    "# Add vectors to the index\n",
    "index.add(vectors)\n",
    "\n",
    "# Perform a similarity search\n",
    "query_vector = np.array([[1, 1, 0]], dtype=np.float32)\n",
    "k = 3  # Number of nearest neighbors to retrieve\n",
    "\n",
    "distances, indices = index.search(query_vector, k)\n",
    "print(indices)"
   ]
  },
  {
   "cell_type": "code",
   "execution_count": null,
   "id": "3c8d83af-4e83-404d-b97f-296da38962ad",
   "metadata": {},
   "outputs": [],
   "source": [
    "res = np.int64(4)"
   ]
  },
  {
   "cell_type": "code",
   "execution_count": null,
   "id": "cdf67d70-9bb8-41a1-aa66-cd8c30f9a4da",
   "metadata": {},
   "outputs": [],
   "source": [
    "type(res)"
   ]
  },
  {
   "cell_type": "code",
   "execution_count": null,
   "id": "046e6379-d719-4a23-90c4-919f02735d03",
   "metadata": {},
   "outputs": [],
   "source": []
  },
  {
   "cell_type": "code",
   "execution_count": null,
   "id": "484e89a5-e4c3-47f0-ac0d-105e25767d07",
   "metadata": {},
   "outputs": [],
   "source": [
    "filter_ids = np.array([0, 1, 2, 3], dtype = np.int64)\n",
    "id_selector = faiss.IDSelectorArray(4, filter_ids)\n",
    "\n",
    "#filtered_distances, filtered_indices = index.search(query_vector, k, params=faiss.SearchParametersIVF(sel=id_selector))\n",
    "#print(filtered_indices)"
   ]
  },
  {
   "cell_type": "code",
   "execution_count": null,
   "id": "ff98ed97-3eb1-401a-977e-ebf49b54f173",
   "metadata": {},
   "outputs": [],
   "source": [
    "help(faiss.IDSelectorArray)"
   ]
  },
  {
   "cell_type": "code",
   "execution_count": null,
   "id": "c786ecd5-ea11-4205-bd8e-ee773a538e0c",
   "metadata": {},
   "outputs": [],
   "source": []
  },
  {
   "cell_type": "code",
   "execution_count": null,
   "id": "707b4f66-adb5-4755-a69d-a673a3a44723",
   "metadata": {},
   "outputs": [],
   "source": []
  },
  {
   "cell_type": "code",
   "execution_count": null,
   "id": "d3e27cb6-b8d0-4bde-902f-4e8f73e78a26",
   "metadata": {},
   "outputs": [],
   "source": [
    "type(vectors[0][0])"
   ]
  },
  {
   "cell_type": "code",
   "execution_count": null,
   "id": "55fbd997-1276-462a-a308-f7f031998882",
   "metadata": {},
   "outputs": [],
   "source": []
  },
  {
   "cell_type": "code",
   "execution_count": null,
   "id": "f0bb3aa3-f1bd-4a76-9927-af941ff759a2",
   "metadata": {},
   "outputs": [],
   "source": []
  },
  {
   "cell_type": "code",
   "execution_count": null,
   "id": "b607d8ea-d1ee-463b-9deb-9847a4eadbdf",
   "metadata": {},
   "outputs": [],
   "source": []
  },
  {
   "cell_type": "code",
   "execution_count": null,
   "id": "86506d6b-cb77-4b3c-852c-6f68f498f0c3",
   "metadata": {},
   "outputs": [],
   "source": [
    "coll_leggi_regionali_keywords.find_one({\"_id_faiss\": int(item_id)})"
   ]
  },
  {
   "cell_type": "code",
   "execution_count": null,
   "id": "4151580f-7932-4a6c-981d-f3f48c5dbb90",
   "metadata": {},
   "outputs": [],
   "source": [
    "ddfor doc in coll_leggi_regionali_keywords.find()[240998:240999]:\n",
    "    print(doc)"
   ]
  },
  {
   "cell_type": "code",
   "execution_count": null,
   "id": "62d17716-bd9b-4149-96ac-9ea7ccbe7151",
   "metadata": {},
   "outputs": [],
   "source": [
    "d"
   ]
  },
  {
   "cell_type": "code",
   "execution_count": null,
   "id": "8c4f0d1f-ed92-48bc-a973-df438468bdd3",
   "metadata": {},
   "outputs": [],
   "source": [
    "top_n_inds, top_n_sim = retriever.retrieve(question)\n",
    "d\n",
    "for ind_sim, ind in enumerate(top_n_inds):dddd\n",
    "    print(str(ind_sim) + \" - score \" + stdddr(toddp_n_sim[ind_sim])) \n",
    "    print(\"titolo:\", list_all_laws[ind]['titolo'].upper())\n",
    "    print(\"legge: {}\".format(list_all_laws[ind]['legge'].upper()))\n",
    "          \n",
    "    print(\"--------------\")"
   ]
  },
  {
   "cell_type": "code",
   "execution_count": null,
   "id": "af3404b1-73c7-44c9-b03d-0aab1a7c9a75",
   "metadata": {},
   "outputs": [],
   "source": []
  },
  {
   "cell_type": "code",
   "execution_count": null,
   "id": "d5ad61d1-3aed-4c95-9701-2339761eb37a",
   "metadata": {},
   "outputs": [],
   "source": []
  }
 ],
 "metadata": {
  "kernelspec": {
   "display_name": "Python 3 (ipykernel)",
   "language": "python",
   "name": "python3"
  },
  "language_info": {
   "codemirror_mode": {
    "name": "ipython",
    "version": 3
   },
   "file_extension": ".py",
   "mimetype": "text/x-python",
   "name": "python",
   "nbconvert_exporter": "python",
   "pygments_lexer": "ipython3",
   "version": "3.10.14"
  }
 },
 "nbformat": 4,
 "nbformat_minor": 5
}
