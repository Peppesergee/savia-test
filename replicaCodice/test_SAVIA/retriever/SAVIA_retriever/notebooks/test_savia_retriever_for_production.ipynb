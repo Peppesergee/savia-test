{
 "cells": [
  {
   "cell_type": "code",
   "execution_count": null,
   "id": "006ff747-c547-4030-9e27-baf368c4166b",
   "metadata": {},
   "outputs": [],
   "source": [
    "import json\n",
    "from pymongo import MongoClient\n",
    "from bson.objectid import ObjectId\n",
    "import numpy as np\n",
    "import random\n",
    "import re\n",
    "import os\n",
    "import faiss\n",
    "from sentence_transformers import SentenceTransformer\n",
    "import sys\n",
    "sys.path.extend([\"../../../../\", \"../../\", \"../\"])\n",
    "\n",
    "from utils.helper_functions import clean_title\n",
    "from vector_stores.helper_functions import generate_law_wording\n",
    "#from BM25.BM25_retriever import BM25Retriever\n",
    "#from helper_functions import remove_punctuation, lemmatization#, remove_stopwords\n",
    "from retriever import SAVIARetriever\n",
    "\n",
    "%load_ext autoreload\n",
    "%autoreload 2"
   ]
  },
  {
   "cell_type": "markdown",
   "id": "25c5a47b-b4a3-4e6d-b262-86b10110fe9e",
   "metadata": {},
   "source": [
    "### Load QA dataset"
   ]
  },
  {
   "cell_type": "code",
   "execution_count": null,
   "id": "acfd2f16-cb62-4423-8102-ef7928bcf9c0",
   "metadata": {},
   "outputs": [],
   "source": [
    "full_QA_dataset_path = \"../../../../../datasets/instruction_datasets/full_QA_dataset.json\"\n",
    "\n",
    "with open(full_QA_dataset_path, \"r\") as f:\n",
    "    full_QA_dataset = json.load(f)\n",
    "\n",
    "print(\"num questions:\", len(full_QA_dataset))"
   ]
  },
  {
   "cell_type": "markdown",
   "id": "f66ce239-78bd-46cc-a51e-84340e3539c5",
   "metadata": {},
   "source": [
    "### Load retriever"
   ]
  },
  {
   "cell_type": "code",
   "execution_count": null,
   "id": "7f9306a8-6f79-4f8e-8542-9da731f1c53b",
   "metadata": {},
   "outputs": [],
   "source": [
    "retriever = SAVIARetriever(vector_store_folder = \"../../../../../SAVIA_vector_stores\")"
   ]
  },
  {
   "cell_type": "code",
   "execution_count": null,
   "id": "e82f8099-a1ed-4c4e-aca5-9b28602cde0d",
   "metadata": {},
   "outputs": [],
   "source": [
    "ind = random.randint(0, len(full_QA_dataset) - 1)\n",
    "#ind = 10976\n",
    "print(ind)\n",
    "item = full_QA_dataset[ind]\n",
    "question = item['question']\n",
    "print(question)\n",
    "print(\"-----\")\n",
    "retrieved_item = retriever.create_prompt(question)\n",
    "print(\"-----\")\n",
    "print(\"GT:  \", item['gt'].upper())\n",
    "if len(retrieved_item) > 0:\n",
    "    print(\"PRED:\", retrieved_item[0]['legge'].upper())"
   ]
  },
  {
   "cell_type": "code",
   "execution_count": null,
   "id": "71aa7ab9-53af-4cab-9f4c-444314247894",
   "metadata": {},
   "outputs": [],
   "source": [
    "#retrieved_item"
   ]
  }
 ],
 "metadata": {
  "kernelspec": {
   "display_name": "Python 3 (ipykernel)",
   "language": "python",
   "name": "python3"
  },
  "language_info": {
   "codemirror_mode": {
    "name": "ipython",
    "version": 3
   },
   "file_extension": ".py",
   "mimetype": "text/x-python",
   "name": "python",
   "nbconvert_exporter": "python",
   "pygments_lexer": "ipython3",
   "version": "3.10.14"
  }
 },
 "nbformat": 4,
 "nbformat_minor": 5
}
