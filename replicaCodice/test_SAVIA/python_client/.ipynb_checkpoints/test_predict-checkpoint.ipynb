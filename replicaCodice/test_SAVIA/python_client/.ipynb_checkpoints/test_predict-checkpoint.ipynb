{
 "cells": [
  {
   "cell_type": "code",
   "execution_count": 1,
   "id": "6eca8688-af64-4418-a79d-ed43718b6efa",
   "metadata": {},
   "outputs": [],
   "source": [
    "import json\n",
    "import random\n",
    "import requests"
   ]
  },
  {
   "cell_type": "code",
   "execution_count": 2,
   "id": "9759c3c3-bc77-401b-86b2-f1d3d99f3742",
   "metadata": {},
   "outputs": [
    {
     "name": "stdout",
     "output_type": "stream",
     "text": [
      "num questions: 13\n"
     ]
    }
   ],
   "source": [
    "dataset_path = \"./datasets/QA_dataset.json\"\n",
    "\n",
    "with open(dataset_path, \"r\") as f:\n",
    "    QA_dataset = json.load(f)\n",
    "\n",
    "print(\"num questions:\", len(QA_dataset))"
   ]
  },
  {
   "cell_type": "code",
   "execution_count": 3,
   "id": "b6bef273-6786-4009-baec-8f6e39fce593",
   "metadata": {},
   "outputs": [],
   "source": [
    "retriver_service_name = \"retriever\"\n",
    "\n",
    "llm_service_name = \"llm\"\n",
    "#llm_service_name = \"llm_small\""
   ]
  },
  {
   "cell_type": "markdown",
   "id": "e27fcfee-fbde-47a7-9cd8-0d871f8efeb0",
   "metadata": {},
   "source": [
    "### Test retriever API alive (wait some secs for loading)"
   ]
  },
  {
   "cell_type": "code",
   "execution_count": 12,
   "id": "7940a619-b1c0-47bf-a6b5-2c5df118150b",
   "metadata": {},
   "outputs": [
    {
     "name": "stdout",
     "output_type": "stream",
     "text": [
      "Retriever API is running\n"
     ]
    }
   ],
   "source": [
    "x = requests.get('http://' + retriver_service_name + ':5001/test_API')\n",
    "\n",
    "print(x.text)"
   ]
  },
  {
   "cell_type": "markdown",
   "id": "634dda46-68c4-4e62-b8a1-222106829218",
   "metadata": {},
   "source": [
    "### Test LLM API alive"
   ]
  },
  {
   "cell_type": "code",
   "execution_count": 6,
   "id": "d6990a49-1fe5-4192-8fd8-4d537c2a64d1",
   "metadata": {},
   "outputs": [
    {
     "name": "stdout",
     "output_type": "stream",
     "text": [
      "LLM API is running\n"
     ]
    }
   ],
   "source": [
    "#x = requests.get('http://llm:5000/test_API')\n",
    "x = requests.get('http://' + llm_service_name  +':5000/test_API')\n",
    "\n",
    "print(x.text)"
   ]
  },
  {
   "cell_type": "markdown",
   "id": "2b2305b0-0cbd-4904-baea-48cb6f901351",
   "metadata": {},
   "source": [
    "### Inference"
   ]
  },
  {
   "cell_type": "code",
   "execution_count": 25,
   "id": "e9a93021-147a-413e-b6eb-255468c16a46",
   "metadata": {},
   "outputs": [
    {
     "name": "stdout",
     "output_type": "stream",
     "text": [
      "6\n",
      "Quali sono gli strumenti urbanistici comunali che possono apportare modifiche al Piano Territoriale Paesistico Regionale (PTPR)?\n"
     ]
    }
   ],
   "source": [
    "ind = random.randint(0, len(QA_dataset) - 1)\n",
    "#ind = 9063\n",
    "print(ind)\n",
    "item = QA_dataset[ind]\n",
    "question = item['question']\n",
    "print(question)"
   ]
  },
  {
   "cell_type": "code",
   "execution_count": 26,
   "id": "d52019ca-0858-433b-b224-9f9172c8dcd7",
   "metadata": {
    "scrolled": true
   },
   "outputs": [
    {
     "name": "stdout",
     "output_type": "stream",
     "text": [
      "num retrieved items 2\n"
     ]
    }
   ],
   "source": [
    "retriever_payload = {'question': question}\n",
    "r = requests.post('http://' + retriver_service_name + ':5001/retrieve', json = retriever_payload)\n",
    "\n",
    "if r.status_code == 200:\n",
    "    retrieved_items = r.json()\n",
    "    print(\"num retrieved items\", len(retrieved_items))\n",
    "#    print(retrieved_item)"
   ]
  },
  {
   "cell_type": "code",
   "execution_count": 27,
   "id": "69f9f8a3-5ef1-4c4c-890b-33d83c42fd09",
   "metadata": {},
   "outputs": [],
   "source": [
    "#retrieved_items[0]"
   ]
  },
  {
   "cell_type": "code",
   "execution_count": 28,
   "id": "71239d12-8081-4ae9-8a67-ae6486369e48",
   "metadata": {},
   "outputs": [
    {
     "name": "stdout",
     "output_type": "stream",
     "text": [
      "{'pred': 'out of memory'}\n"
     ]
    }
   ],
   "source": [
    "llm_payload = {'question': question, \"context\": retrieved_items}\n",
    "#llm_payload = {'question': \"Chi ha vinto i mondiale del 2006?\", \"context\": []}\n",
    "\n",
    "r = requests.post('http://' + llm_service_name +':5000/generate', json = llm_payload)\n",
    "\n",
    "if r.status_code == 200:\n",
    "    pred = r.json()\n",
    "    print(pred)"
   ]
  },
  {
   "cell_type": "code",
   "execution_count": null,
   "id": "63e40a07-8892-4ecb-8286-998059570116",
   "metadata": {},
   "outputs": [],
   "source": [
    "#retrieved_items"
   ]
  },
  {
   "cell_type": "code",
   "execution_count": null,
   "id": "fec3d511-6815-4c81-a8f9-3509eba6b733",
   "metadata": {},
   "outputs": [],
   "source": []
  },
  {
   "cell_type": "code",
   "execution_count": null,
   "id": "8a62c49f-8f78-48d6-97f9-d3667f029aee",
   "metadata": {},
   "outputs": [],
   "source": []
  }
 ],
 "metadata": {
  "kernelspec": {
   "display_name": "Python 3 (ipykernel)",
   "language": "python",
   "name": "python3"
  },
  "language_info": {
   "codemirror_mode": {
    "name": "ipython",
    "version": 3
   },
   "file_extension": ".py",
   "mimetype": "text/x-python",
   "name": "python",
   "nbconvert_exporter": "python",
   "pygments_lexer": "ipython3",
   "version": "3.13.0"
  }
 },
 "nbformat": 4,
 "nbformat_minor": 5
}
